{
 "cells": [
  {
   "cell_type": "markdown",
   "metadata": {},
   "source": [
    "## [作業重點]\n",
    "了解隨機森林改善了決策樹的什麼缺點？是用什麼方法改進的？"
   ]
  },
  {
   "cell_type": "markdown",
   "metadata": {},
   "source": [
    "## 作業\n",
    "\n",
    "閱讀以下兩篇文獻，了解隨機森林原理，並試著回答後續的思考問題\n",
    "- [隨機森林 (random forest) - 中文](http://hhtucode.blogspot.tw/2013/06/ml-random-forest.html)\n",
    "- [how random forest works - 英文](https://medium.com/@Synced/how-random-forest-algorithm-works-in-machine-learning-3c0fe15b6674)"
   ]
  },
  {
   "cell_type": "markdown",
   "metadata": {},
   "source": [
    "\n",
    "1. 隨機森林中的每一棵樹，是希望能夠\n",
    "\n",
    "    - 沒有任何限制，讓樹可以持續生長 (讓樹生成很深，讓模型變得複雜)\n",
    "    \n",
    "    - 不要過度生長，避免 Overfitting\n",
    "    \n",
    "    \n",
    "2. 假設總共有 N 筆資料，每棵樹用取後放回的方式抽了總共 N 筆資料生成，請問這棵樹大約使用了多少 % 不重複的原資料生成?\n",
    "hint: 0.632 bootstrap\n"
   ]
  },
  {
   "cell_type": "code",
   "execution_count": null,
   "metadata": {},
   "outputs": [],
   "source": [
    "1.1\n",
    "持續生長到最罙的情況是一個極偏斜樹，\n",
    "每個NODE只有一個子NODE，樹的深度等於資料的數量，\n",
    "這肯定是過凝的，肯定是不好的。\n",
    "\n",
    "1.2\n",
    "這句話好像沒毛病，\n",
    "感覺上每一棵樹的責任是在為整座森林提出一份貢獻，貢獻的大小不重要，只要有就好，\n",
    "但森林的大小就很重要了，越大越好，而且樹的樣子也應該不要重覆。\n",
    "\n",
    "2.\n",
    "在N筆資料中抽中的機率是1/N，不中的機率就是1-1/N，\n",
    "因為抽中後會放回去再重抽，所以每次抽取都是獨立的，\n",
    "總共會抽N次，那麼都沒被抽中過的機率就是(1-1/N)的N次方，\n",
    "要讓機率變得有義意的話，N要取無窮大才好，\n",
    "(1-1/N)的N次方取N為無窮大，其極限為1/e，e是自然數。\n",
    "所以任意一個樣本被抽中的機率就是1-1/e，近似於0.632。"
   ]
  }
 ],
 "metadata": {
  "kernelspec": {
   "display_name": "Python 3",
   "language": "python",
   "name": "python3"
  },
  "language_info": {
   "codemirror_mode": {
    "name": "ipython",
    "version": 3
   },
   "file_extension": ".py",
   "mimetype": "text/x-python",
   "name": "python",
   "nbconvert_exporter": "python",
   "pygments_lexer": "ipython3",
   "version": "3.7.3"
  }
 },
 "nbformat": 4,
 "nbformat_minor": 2
}
