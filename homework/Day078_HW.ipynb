{
 "cells": [
  {
   "cell_type": "markdown",
   "metadata": {},
   "source": [
    "## Work\n",
    "1. 請嘗試將 preproc_x 替換成以每筆資料的 min/max 進行標準化至 -1 ~ 1 間，再進行訓練\n",
    "2. 請嘗試將 mlp 疊更深 (e.g 5~10 層)，進行訓練後觀察 learning curve 的走勢\n",
    "3. (optional) 請改用 GPU 進行訓練 (如果你有 GPU 的話)，比較使用 CPU 與 GPU 的訓練速度"
   ]
  },
  {
   "cell_type": "code",
   "execution_count": 1,
   "metadata": {},
   "outputs": [
    {
     "data": {
      "text/plain": [
       "'\\nYour code here (optional)\\n確認硬體資源\\n'"
      ]
     },
     "execution_count": 1,
     "metadata": {},
     "output_type": "execute_result"
    }
   ],
   "source": [
    "## \n",
    "\"\"\"\n",
    "Your code here (optional)\n",
    "確認硬體資源\n",
    "\"\"\"\n"
   ]
  },
  {
   "cell_type": "code",
   "execution_count": 2,
   "metadata": {},
   "outputs": [
    {
     "name": "stderr",
     "output_type": "stream",
     "text": [
      "Using TensorFlow backend.\n"
     ]
    }
   ],
   "source": [
    "import os\n",
    "import keras\n",
    "\n",
    "# 請嘗試設定 GPU：os.environ\n"
   ]
  },
  {
   "cell_type": "code",
   "execution_count": 3,
   "metadata": {},
   "outputs": [],
   "source": [
    "train, test = keras.datasets.cifar10.load_data()"
   ]
  },
  {
   "cell_type": "code",
   "execution_count": 7,
   "metadata": {},
   "outputs": [],
   "source": [
    "## 資料前處理\n",
    "\"\"\"\n",
    "Your code here\n",
    "\"\"\"\n",
    "def preproc_x(x, flatten=True):\n",
    "    mami2 = 2 / (x.max()-x.min())\n",
    "    x = (x-x.min()) * mami2 - 1\n",
    "    if flatten:\n",
    "        x = x.reshape((len(x), -1))\n",
    "    return x\n",
    "\n",
    "def preproc_y(y, num_classes=10):\n",
    "    if y.shape[-1] == 1:\n",
    "        y = keras.utils.to_categorical(y, num_classes)\n",
    "    return y"
   ]
  },
  {
   "cell_type": "code",
   "execution_count": 8,
   "metadata": {},
   "outputs": [],
   "source": [
    "x_train, y_train = train\n",
    "x_test, y_test = test\n",
    "\n",
    "# Preproc the inputs\n",
    "x_train = preproc_x(x_train)\n",
    "x_test = preproc_x(x_test)\n",
    "\n",
    "# Preprc the outputs\n",
    "y_train = preproc_y(y_train)\n",
    "y_test = preproc_y(y_test)"
   ]
  },
  {
   "cell_type": "code",
   "execution_count": 9,
   "metadata": {},
   "outputs": [
    {
     "name": "stdout",
     "output_type": "stream",
     "text": [
      "Model: \"model_1\"\n",
      "_________________________________________________________________\n",
      "Layer (type)                 Output Shape              Param #   \n",
      "=================================================================\n",
      "input_1 (InputLayer)         (None, 3072)              0         \n",
      "_________________________________________________________________\n",
      "hidden_layer1 (Dense)        (None, 512)               1573376   \n",
      "_________________________________________________________________\n",
      "hidden_layer2 (Dense)        (None, 256)               131328    \n",
      "_________________________________________________________________\n",
      "hidden_layer3 (Dense)        (None, 128)               32896     \n",
      "_________________________________________________________________\n",
      "hidden_layer4 (Dense)        (None, 64)                8256      \n",
      "_________________________________________________________________\n",
      "hidden_layer5 (Dense)        (None, 32)                2080      \n",
      "_________________________________________________________________\n",
      "hidden_layer6 (Dense)        (None, 16)                528       \n",
      "_________________________________________________________________\n",
      "output (Dense)               (None, 10)                170       \n",
      "=================================================================\n",
      "Total params: 1,748,634\n",
      "Trainable params: 1,748,634\n",
      "Non-trainable params: 0\n",
      "_________________________________________________________________\n"
     ]
    }
   ],
   "source": [
    "\"\"\"Code Here\n",
    "建立你的神經網路\n",
    "\"\"\"\n",
    "def build_mlp(input_shape, output_units=10, num_neurons=[512, 256, 128, 64, 32, 16]):\n",
    "    input_layer = keras.layers.Input(input_shape)\n",
    "    \n",
    "    for i, n_units in enumerate(num_neurons):\n",
    "        if i == 0:\n",
    "            x = keras.layers.Dense(units=n_units, activation=\"relu\", name=\"hidden_layer\"+str(i+1))(input_layer)\n",
    "        else:\n",
    "            x = keras.layers.Dense(units=n_units, activation=\"relu\", name=\"hidden_layer\"+str(i+1))(x)\n",
    "    \n",
    "    out = keras.layers.Dense(units=output_units, activation=\"softmax\", name=\"output\")(x)\n",
    "    \n",
    "    model = keras.models.Model(inputs=[input_layer], outputs=[out])\n",
    "    return model\n",
    "\n",
    "model = build_mlp(input_shape=x_train.shape[1:])\n",
    "model.summary()"
   ]
  },
  {
   "cell_type": "code",
   "execution_count": 10,
   "metadata": {},
   "outputs": [],
   "source": [
    "## 超參數設定\n",
    "LEARNING_RATE = 0.001\n",
    "EPOCHS = 100\n",
    "BATCH_SIZE = 256"
   ]
  },
  {
   "cell_type": "code",
   "execution_count": 11,
   "metadata": {},
   "outputs": [],
   "source": [
    "optimizer = keras.optimizers.Adam(lr=LEARNING_RATE)\n",
    "model.compile(loss=\"categorical_crossentropy\", metrics=[\"accuracy\"], optimizer=optimizer)"
   ]
  },
  {
   "cell_type": "code",
   "execution_count": 12,
   "metadata": {},
   "outputs": [
    {
     "name": "stdout",
     "output_type": "stream",
     "text": [
      "Train on 50000 samples, validate on 10000 samples\n",
      "Epoch 1/100\n",
      "50000/50000 [==============================] - 7s 145us/step - loss: 1.8666 - accuracy: 0.3473 - val_loss: 1.6124 - val_accuracy: 0.4329\n",
      "Epoch 2/100\n",
      "50000/50000 [==============================] - 7s 145us/step - loss: 1.5484 - accuracy: 0.4565 - val_loss: 1.4882 - val_accuracy: 0.4745\n",
      "Epoch 3/100\n",
      "50000/50000 [==============================] - 7s 147us/step - loss: 1.4164 - accuracy: 0.5032 - val_loss: 1.4476 - val_accuracy: 0.4949\n",
      "Epoch 4/100\n",
      "50000/50000 [==============================] - 7s 140us/step - loss: 1.3175 - accuracy: 0.5375 - val_loss: 1.4072 - val_accuracy: 0.5116\n",
      "Epoch 5/100\n",
      "50000/50000 [==============================] - 7s 137us/step - loss: 1.2296 - accuracy: 0.5687 - val_loss: 1.4015 - val_accuracy: 0.5158\n",
      "Epoch 6/100\n",
      "50000/50000 [==============================] - 7s 138us/step - loss: 1.1592 - accuracy: 0.5925 - val_loss: 1.3609 - val_accuracy: 0.5227\n",
      "Epoch 7/100\n",
      "50000/50000 [==============================] - 7s 138us/step - loss: 1.0845 - accuracy: 0.6190 - val_loss: 1.3751 - val_accuracy: 0.5371\n",
      "Epoch 8/100\n",
      "50000/50000 [==============================] - 7s 137us/step - loss: 1.0119 - accuracy: 0.6471 - val_loss: 1.4097 - val_accuracy: 0.5253\n",
      "Epoch 9/100\n",
      "50000/50000 [==============================] - 7s 138us/step - loss: 0.9464 - accuracy: 0.6659 - val_loss: 1.4031 - val_accuracy: 0.5325\n",
      "Epoch 10/100\n",
      "50000/50000 [==============================] - 7s 138us/step - loss: 0.8856 - accuracy: 0.6876 - val_loss: 1.4310 - val_accuracy: 0.5352\n",
      "Epoch 11/100\n",
      "50000/50000 [==============================] - 7s 138us/step - loss: 0.8240 - accuracy: 0.7093 - val_loss: 1.4422 - val_accuracy: 0.5467\n",
      "Epoch 12/100\n",
      "50000/50000 [==============================] - 7s 138us/step - loss: 0.7568 - accuracy: 0.7320 - val_loss: 1.5537 - val_accuracy: 0.5328\n",
      "Epoch 13/100\n",
      "50000/50000 [==============================] - 7s 139us/step - loss: 0.6989 - accuracy: 0.7519 - val_loss: 1.5420 - val_accuracy: 0.5407\n",
      "Epoch 14/100\n",
      "50000/50000 [==============================] - 7s 139us/step - loss: 0.6424 - accuracy: 0.7713 - val_loss: 1.6812 - val_accuracy: 0.5306\n",
      "Epoch 15/100\n",
      "50000/50000 [==============================] - 7s 138us/step - loss: 0.5971 - accuracy: 0.7870 - val_loss: 1.7391 - val_accuracy: 0.5392\n",
      "Epoch 16/100\n",
      "50000/50000 [==============================] - 7s 142us/step - loss: 0.5463 - accuracy: 0.8079 - val_loss: 1.8169 - val_accuracy: 0.5289\n",
      "Epoch 17/100\n",
      "50000/50000 [==============================] - 7s 144us/step - loss: 0.4958 - accuracy: 0.8254 - val_loss: 1.9594 - val_accuracy: 0.5266\n",
      "Epoch 18/100\n",
      "50000/50000 [==============================] - 7s 138us/step - loss: 0.4708 - accuracy: 0.8341 - val_loss: 1.9701 - val_accuracy: 0.5285\n",
      "Epoch 19/100\n",
      "50000/50000 [==============================] - 7s 138us/step - loss: 0.4261 - accuracy: 0.8511 - val_loss: 2.0660 - val_accuracy: 0.5287\n",
      "Epoch 20/100\n",
      "50000/50000 [==============================] - 7s 137us/step - loss: 0.4007 - accuracy: 0.8606 - val_loss: 2.1041 - val_accuracy: 0.5328\n",
      "Epoch 21/100\n",
      "50000/50000 [==============================] - 7s 138us/step - loss: 0.3623 - accuracy: 0.8744 - val_loss: 2.2173 - val_accuracy: 0.5249\n",
      "Epoch 22/100\n",
      "50000/50000 [==============================] - 7s 138us/step - loss: 0.3518 - accuracy: 0.8769 - val_loss: 2.3358 - val_accuracy: 0.5275\n",
      "Epoch 23/100\n",
      "50000/50000 [==============================] - 7s 137us/step - loss: 0.3202 - accuracy: 0.8878 - val_loss: 2.4705 - val_accuracy: 0.5246\n",
      "Epoch 24/100\n",
      "50000/50000 [==============================] - 7s 137us/step - loss: 0.2932 - accuracy: 0.8977 - val_loss: 2.5750 - val_accuracy: 0.5244\n",
      "Epoch 25/100\n",
      "50000/50000 [==============================] - 7s 138us/step - loss: 0.2889 - accuracy: 0.8999 - val_loss: 2.5486 - val_accuracy: 0.5301\n",
      "Epoch 26/100\n",
      "50000/50000 [==============================] - 7s 137us/step - loss: 0.2716 - accuracy: 0.9052 - val_loss: 2.6268 - val_accuracy: 0.5294\n",
      "Epoch 27/100\n",
      "50000/50000 [==============================] - 7s 139us/step - loss: 0.2522 - accuracy: 0.9138 - val_loss: 2.6058 - val_accuracy: 0.5293\n",
      "Epoch 28/100\n",
      "50000/50000 [==============================] - 7s 138us/step - loss: 0.2426 - accuracy: 0.9147 - val_loss: 2.9974 - val_accuracy: 0.5197\n",
      "Epoch 29/100\n",
      "50000/50000 [==============================] - 7s 137us/step - loss: 0.2201 - accuracy: 0.9238 - val_loss: 3.0177 - val_accuracy: 0.5211\n",
      "Epoch 30/100\n",
      "50000/50000 [==============================] - 7s 138us/step - loss: 0.2265 - accuracy: 0.9218 - val_loss: 2.8717 - val_accuracy: 0.5263\n",
      "Epoch 31/100\n",
      "50000/50000 [==============================] - 7s 138us/step - loss: 0.2009 - accuracy: 0.9304 - val_loss: 3.0429 - val_accuracy: 0.5258\n",
      "Epoch 32/100\n",
      "50000/50000 [==============================] - 7s 143us/step - loss: 0.2031 - accuracy: 0.9298 - val_loss: 3.0951 - val_accuracy: 0.5196\n",
      "Epoch 33/100\n",
      "50000/50000 [==============================] - 7s 141us/step - loss: 0.1967 - accuracy: 0.9325 - val_loss: 3.0075 - val_accuracy: 0.5282\n",
      "Epoch 34/100\n",
      "50000/50000 [==============================] - 7s 142us/step - loss: 0.1948 - accuracy: 0.9332 - val_loss: 3.1199 - val_accuracy: 0.5322\n",
      "Epoch 35/100\n",
      "50000/50000 [==============================] - 7s 141us/step - loss: 0.1734 - accuracy: 0.9420 - val_loss: 3.3167 - val_accuracy: 0.5268\n",
      "Epoch 36/100\n",
      "50000/50000 [==============================] - 7s 145us/step - loss: 0.1646 - accuracy: 0.9439 - val_loss: 3.2659 - val_accuracy: 0.5194\n",
      "Epoch 37/100\n",
      "50000/50000 [==============================] - 7s 145us/step - loss: 0.1700 - accuracy: 0.9417 - val_loss: 3.3413 - val_accuracy: 0.5229\n",
      "Epoch 38/100\n",
      "50000/50000 [==============================] - 7s 138us/step - loss: 0.1645 - accuracy: 0.9442 - val_loss: 3.2121 - val_accuracy: 0.5318\n",
      "Epoch 39/100\n",
      "50000/50000 [==============================] - 7s 139us/step - loss: 0.1484 - accuracy: 0.9494 - val_loss: 3.3826 - val_accuracy: 0.5317\n",
      "Epoch 40/100\n",
      "50000/50000 [==============================] - 7s 138us/step - loss: 0.1519 - accuracy: 0.9482 - val_loss: 3.4465 - val_accuracy: 0.5287\n",
      "Epoch 41/100\n",
      "50000/50000 [==============================] - 7s 138us/step - loss: 0.1424 - accuracy: 0.9521 - val_loss: 3.5385 - val_accuracy: 0.5320\n",
      "Epoch 42/100\n",
      "50000/50000 [==============================] - 7s 138us/step - loss: 0.1388 - accuracy: 0.9531 - val_loss: 3.5140 - val_accuracy: 0.5272\n",
      "Epoch 43/100\n",
      "50000/50000 [==============================] - 7s 138us/step - loss: 0.1507 - accuracy: 0.9492 - val_loss: 3.6256 - val_accuracy: 0.5167\n",
      "Epoch 44/100\n",
      "50000/50000 [==============================] - 7s 139us/step - loss: 0.1574 - accuracy: 0.9483 - val_loss: 3.4760 - val_accuracy: 0.5276\n",
      "Epoch 45/100\n",
      "50000/50000 [==============================] - 7s 138us/step - loss: 0.1276 - accuracy: 0.9576 - val_loss: 3.5296 - val_accuracy: 0.5308\n",
      "Epoch 46/100\n",
      "50000/50000 [==============================] - 7s 138us/step - loss: 0.1227 - accuracy: 0.9598 - val_loss: 3.6209 - val_accuracy: 0.5235\n",
      "Epoch 47/100\n",
      "50000/50000 [==============================] - 7s 138us/step - loss: 0.1266 - accuracy: 0.9587 - val_loss: 3.7081 - val_accuracy: 0.5297\n",
      "Epoch 48/100\n",
      "50000/50000 [==============================] - 7s 138us/step - loss: 0.1169 - accuracy: 0.9620 - val_loss: 3.7044 - val_accuracy: 0.5263\n",
      "Epoch 49/100\n",
      "50000/50000 [==============================] - 7s 138us/step - loss: 0.1286 - accuracy: 0.9580 - val_loss: 3.7268 - val_accuracy: 0.5306\n",
      "Epoch 50/100\n",
      "50000/50000 [==============================] - 7s 139us/step - loss: 0.1227 - accuracy: 0.9591 - val_loss: 3.6897 - val_accuracy: 0.5205\n",
      "Epoch 51/100\n",
      "50000/50000 [==============================] - 7s 138us/step - loss: 0.1042 - accuracy: 0.9646 - val_loss: 3.8187 - val_accuracy: 0.5209\n",
      "Epoch 52/100\n",
      "50000/50000 [==============================] - 7s 138us/step - loss: 0.1255 - accuracy: 0.9592 - val_loss: 3.7930 - val_accuracy: 0.5242\n",
      "Epoch 53/100\n",
      "50000/50000 [==============================] - 7s 139us/step - loss: 0.1181 - accuracy: 0.9604 - val_loss: 3.6664 - val_accuracy: 0.5315\n",
      "Epoch 54/100\n",
      "50000/50000 [==============================] - 7s 138us/step - loss: 0.0942 - accuracy: 0.9689 - val_loss: 3.8683 - val_accuracy: 0.5251\n",
      "Epoch 55/100\n"
     ]
    },
    {
     "name": "stdout",
     "output_type": "stream",
     "text": [
      "50000/50000 [==============================] - 7s 139us/step - loss: 0.1043 - accuracy: 0.9648 - val_loss: 3.9860 - val_accuracy: 0.5228\n",
      "Epoch 56/100\n",
      "50000/50000 [==============================] - 7s 138us/step - loss: 0.1177 - accuracy: 0.9613 - val_loss: 3.7373 - val_accuracy: 0.5275\n",
      "Epoch 57/100\n",
      "50000/50000 [==============================] - 7s 138us/step - loss: 0.1252 - accuracy: 0.9581 - val_loss: 3.7737 - val_accuracy: 0.5275\n",
      "Epoch 58/100\n",
      "50000/50000 [==============================] - 7s 141us/step - loss: 0.1036 - accuracy: 0.9658 - val_loss: 3.9995 - val_accuracy: 0.5263\n",
      "Epoch 59/100\n",
      "50000/50000 [==============================] - 7s 139us/step - loss: 0.0889 - accuracy: 0.9703 - val_loss: 4.0943 - val_accuracy: 0.5246\n",
      "Epoch 60/100\n",
      "50000/50000 [==============================] - 7s 140us/step - loss: 0.1352 - accuracy: 0.9565 - val_loss: 3.7421 - val_accuracy: 0.5278\n",
      "Epoch 61/100\n",
      "50000/50000 [==============================] - 7s 144us/step - loss: 0.0961 - accuracy: 0.9685 - val_loss: 4.0159 - val_accuracy: 0.5268\n",
      "Epoch 62/100\n",
      "50000/50000 [==============================] - 7s 138us/step - loss: 0.0727 - accuracy: 0.9755 - val_loss: 4.1004 - val_accuracy: 0.5286\n",
      "Epoch 63/100\n",
      "50000/50000 [==============================] - 7s 138us/step - loss: 0.1026 - accuracy: 0.9670 - val_loss: 4.0046 - val_accuracy: 0.5256\n",
      "Epoch 64/100\n",
      "50000/50000 [==============================] - 7s 138us/step - loss: 0.0812 - accuracy: 0.9733 - val_loss: 4.2785 - val_accuracy: 0.5332\n",
      "Epoch 65/100\n",
      "50000/50000 [==============================] - 7s 138us/step - loss: 0.0867 - accuracy: 0.9716 - val_loss: 4.0037 - val_accuracy: 0.5291\n",
      "Epoch 66/100\n",
      "50000/50000 [==============================] - 7s 138us/step - loss: 0.1158 - accuracy: 0.9624 - val_loss: 3.9893 - val_accuracy: 0.5175\n",
      "Epoch 67/100\n",
      "50000/50000 [==============================] - 7s 138us/step - loss: 0.0924 - accuracy: 0.9695 - val_loss: 4.1180 - val_accuracy: 0.5225\n",
      "Epoch 68/100\n",
      "50000/50000 [==============================] - 7s 139us/step - loss: 0.0688 - accuracy: 0.9781 - val_loss: 4.1083 - val_accuracy: 0.5269\n",
      "Epoch 69/100\n",
      "50000/50000 [==============================] - 7s 138us/step - loss: 0.1044 - accuracy: 0.9660 - val_loss: 3.9079 - val_accuracy: 0.5202\n",
      "Epoch 70/100\n",
      "50000/50000 [==============================] - 7s 139us/step - loss: 0.0919 - accuracy: 0.9697 - val_loss: 4.1046 - val_accuracy: 0.5271\n",
      "Epoch 71/100\n",
      "50000/50000 [==============================] - 7s 138us/step - loss: 0.0851 - accuracy: 0.9720 - val_loss: 4.0589 - val_accuracy: 0.5270\n",
      "Epoch 72/100\n",
      "50000/50000 [==============================] - 7s 138us/step - loss: 0.0900 - accuracy: 0.9713 - val_loss: 4.2026 - val_accuracy: 0.5314\n",
      "Epoch 73/100\n",
      "50000/50000 [==============================] - 7s 138us/step - loss: 0.0703 - accuracy: 0.9767 - val_loss: 4.3988 - val_accuracy: 0.5225\n",
      "Epoch 74/100\n",
      "50000/50000 [==============================] - 7s 138us/step - loss: 0.1104 - accuracy: 0.9648 - val_loss: 3.8853 - val_accuracy: 0.5273\n",
      "Epoch 75/100\n",
      "50000/50000 [==============================] - 7s 138us/step - loss: 0.0737 - accuracy: 0.9757 - val_loss: 4.1012 - val_accuracy: 0.5231\n",
      "Epoch 76/100\n",
      "50000/50000 [==============================] - 7s 138us/step - loss: 0.0740 - accuracy: 0.9765 - val_loss: 4.1370 - val_accuracy: 0.5309\n",
      "Epoch 77/100\n",
      "50000/50000 [==============================] - 7s 138us/step - loss: 0.0599 - accuracy: 0.9797 - val_loss: 4.4213 - val_accuracy: 0.5273\n",
      "Epoch 78/100\n",
      "50000/50000 [==============================] - 7s 138us/step - loss: 0.0718 - accuracy: 0.9765 - val_loss: 4.3394 - val_accuracy: 0.5287\n",
      "Epoch 79/100\n",
      "50000/50000 [==============================] - 7s 138us/step - loss: 0.0981 - accuracy: 0.9681 - val_loss: 4.1924 - val_accuracy: 0.5154\n",
      "Epoch 80/100\n",
      "50000/50000 [==============================] - 7s 138us/step - loss: 0.0825 - accuracy: 0.9735 - val_loss: 4.0700 - val_accuracy: 0.5213\n",
      "Epoch 81/100\n",
      "50000/50000 [==============================] - 7s 138us/step - loss: 0.0626 - accuracy: 0.9801 - val_loss: 4.2954 - val_accuracy: 0.5268\n",
      "Epoch 82/100\n",
      "50000/50000 [==============================] - 7s 139us/step - loss: 0.0800 - accuracy: 0.9737 - val_loss: 4.2013 - val_accuracy: 0.5238\n",
      "Epoch 83/100\n",
      "50000/50000 [==============================] - 7s 138us/step - loss: 0.0728 - accuracy: 0.9762 - val_loss: 4.3525 - val_accuracy: 0.5308\n",
      "Epoch 84/100\n",
      "50000/50000 [==============================] - 7s 138us/step - loss: 0.0767 - accuracy: 0.9754 - val_loss: 4.3212 - val_accuracy: 0.5270\n",
      "Epoch 85/100\n",
      "50000/50000 [==============================] - 7s 138us/step - loss: 0.0801 - accuracy: 0.9745 - val_loss: 4.2207 - val_accuracy: 0.5260\n",
      "Epoch 86/100\n",
      "50000/50000 [==============================] - 7s 139us/step - loss: 0.0649 - accuracy: 0.9788 - val_loss: 4.2758 - val_accuracy: 0.5269\n",
      "Epoch 87/100\n",
      "50000/50000 [==============================] - 7s 138us/step - loss: 0.0690 - accuracy: 0.9772 - val_loss: 4.3944 - val_accuracy: 0.5232\n",
      "Epoch 88/100\n",
      "50000/50000 [==============================] - 7s 138us/step - loss: 0.0828 - accuracy: 0.9737 - val_loss: 4.2985 - val_accuracy: 0.5237\n",
      "Epoch 89/100\n",
      "50000/50000 [==============================] - 7s 138us/step - loss: 0.0749 - accuracy: 0.9766 - val_loss: 4.1879 - val_accuracy: 0.5245\n",
      "Epoch 90/100\n",
      "50000/50000 [==============================] - 7s 138us/step - loss: 0.0805 - accuracy: 0.9743 - val_loss: 4.1884 - val_accuracy: 0.5295\n",
      "Epoch 91/100\n",
      "50000/50000 [==============================] - 7s 138us/step - loss: 0.0611 - accuracy: 0.9811 - val_loss: 4.4484 - val_accuracy: 0.5277\n",
      "Epoch 92/100\n",
      "50000/50000 [==============================] - 7s 138us/step - loss: 0.0741 - accuracy: 0.9766 - val_loss: 4.3183 - val_accuracy: 0.5263\n",
      "Epoch 93/100\n",
      "50000/50000 [==============================] - 7s 138us/step - loss: 0.0572 - accuracy: 0.9817 - val_loss: 4.3118 - val_accuracy: 0.5277\n",
      "Epoch 94/100\n",
      "50000/50000 [==============================] - 7s 138us/step - loss: 0.0671 - accuracy: 0.9786 - val_loss: 4.3805 - val_accuracy: 0.5247\n",
      "Epoch 95/100\n",
      "50000/50000 [==============================] - 7s 138us/step - loss: 0.0687 - accuracy: 0.9777 - val_loss: 4.4403 - val_accuracy: 0.5242\n",
      "Epoch 96/100\n",
      "50000/50000 [==============================] - 7s 138us/step - loss: 0.0685 - accuracy: 0.9777 - val_loss: 4.3525 - val_accuracy: 0.5360\n",
      "Epoch 97/100\n",
      "50000/50000 [==============================] - 7s 138us/step - loss: 0.0556 - accuracy: 0.9823 - val_loss: 4.6340 - val_accuracy: 0.5261\n",
      "Epoch 98/100\n",
      "50000/50000 [==============================] - 7s 138us/step - loss: 0.0813 - accuracy: 0.9746 - val_loss: 4.1968 - val_accuracy: 0.5284\n",
      "Epoch 99/100\n",
      "50000/50000 [==============================] - 7s 138us/step - loss: 0.0625 - accuracy: 0.9804 - val_loss: 4.3886 - val_accuracy: 0.5293\n",
      "Epoch 100/100\n",
      "50000/50000 [==============================] - 7s 138us/step - loss: 0.0635 - accuracy: 0.9800 - val_loss: 4.2486 - val_accuracy: 0.5272\n"
     ]
    },
    {
     "data": {
      "text/plain": [
       "<keras.callbacks.callbacks.History at 0x1fe1e2d11d0>"
      ]
     },
     "execution_count": 12,
     "metadata": {},
     "output_type": "execute_result"
    }
   ],
   "source": [
    "model.fit(x_train, y_train, \n",
    "          epochs=EPOCHS, \n",
    "          batch_size=BATCH_SIZE, \n",
    "          validation_data=(x_test, y_test), \n",
    "          shuffle=True)"
   ]
  },
  {
   "cell_type": "code",
   "execution_count": 14,
   "metadata": {},
   "outputs": [
    {
     "data": {
      "image/png": "[encoded data removed]",
      "text/plain": [
       "<Figure size 432x288 with 1 Axes>"
      ]
     },
     "metadata": {
      "needs_background": "light"
     },
     "output_type": "display_data"
    },
    {
     "data": {
      "image/png": "[encoded data removed]",
      "text/plain": [
       "<Figure size 432x288 with 1 Axes>"
      ]
     },
     "metadata": {
      "needs_background": "light"
     },
     "output_type": "display_data"
    }
   ],
   "source": [
    "import matplotlib.pyplot as plt\n",
    "\n",
    "\n",
    "train_loss = model.history.history[\"loss\"]\n",
    "valid_loss = model.history.history[\"val_loss\"]\n",
    "\n",
    "train_acc = model.history.history[\"accuracy\"]\n",
    "valid_acc = model.history.history[\"val_accuracy\"]\n",
    "\n",
    "plt.plot(range(len(train_loss)), train_loss, label=\"train loss\")\n",
    "plt.plot(range(len(valid_loss)), valid_loss, label=\"valid loss\")\n",
    "plt.legend()\n",
    "plt.title(\"Loss\")\n",
    "plt.show()\n",
    "\n",
    "plt.plot(range(len(train_acc)), train_acc, label=\"train accuracy\")\n",
    "plt.plot(range(len(valid_acc)), valid_acc, label=\"valid accuracy\")\n",
    "plt.legend()\n",
    "plt.title(\"Accuracy\")\n",
    "plt.show()"
   ]
  },
  {
   "cell_type": "code",
   "execution_count": null,
   "metadata": {},
   "outputs": [],
   "source": []
  }
 ],
 "metadata": {
  "kernelspec": {
   "display_name": "Python 3",
   "language": "python",
   "name": "python3"
  },
  "language_info": {
   "codemirror_mode": {
    "name": "ipython",
    "version": 3
   },
   "file_extension": ".py",
   "mimetype": "text/x-python",
   "name": "python",
   "nbconvert_exporter": "python",
   "pygments_lexer": "ipython3",
   "version": "3.7.3"
  }
 },
 "nbformat": 4,
 "nbformat_minor": 2
}
