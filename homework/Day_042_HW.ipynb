{
 "cells": [
  {
   "cell_type": "markdown",
   "metadata": {},
   "source": [
    "## [作業重點]\n",
    "目前你應該已經要很清楚資料集中，資料的型態是什麼樣子囉！包含特徵 (features) 與標籤 (labels)。因此要記得未來不管什麼專案，必須要把資料清理成相同的格式，才能送進模型訓練。\n",
    "今天的作業開始踏入決策樹這個非常重要的模型，請務必確保你理解模型中每個超參數的意思，並試著調整看看，對最終預測結果的影響為何"
   ]
  },
  {
   "cell_type": "markdown",
   "metadata": {},
   "source": [
    "## 作業\n",
    "\n",
    "1. 試著調整 DecisionTreeClassifier(...) 中的參數，並觀察是否會改變結果？\n",
    "2. 改用其他資料集 (boston, wine)，並與回歸模型的結果進行比較"
   ]
  },
  {
   "cell_type": "code",
   "execution_count": 1,
   "metadata": {},
   "outputs": [],
   "source": [
    "from sklearn import datasets, metrics\n",
    "from sklearn.tree import DecisionTreeClassifier, DecisionTreeRegressor\n",
    "from sklearn.model_selection import train_test_split"
   ]
  },
  {
   "cell_type": "code",
   "execution_count": 2,
   "metadata": {},
   "outputs": [
    {
     "name": "stdout",
     "output_type": "stream",
     "text": [
      "########## regression ##########\n",
      "====== .. _boston_dataset: shape is (506, 13)\n",
      "------ DecisionTreeRegressor : {'criterion': 'mse', 'max_depth': None, 'max_features': None, 'max_leaf_nodes': None, 'min_impurity_decrease': 0.0, 'min_impurity_split': None, 'min_samples_leaf': 1, 'min_samples_split': 2, 'min_weight_fraction_leaf': 0.0, 'presort': False, 'random_state': None, 'splitter': 'best'}\n",
      "MSE:  23.90794117647059\n",
      "Feature importance:  {'CRIM': 0.05295852268280136, 'ZN': 0.0013204280650220474, 'INDUS': 0.004699893808082184, 'CHAS': 1.3582302455858369e-06, 'NOX': 0.015444561816123326, 'RM': 0.5818057898977267, 'AGE': 0.010769282814848673, 'DIS': 0.0637403036752105, 'RAD': 0.0005063935098992366, 'TAX': 0.03565920071474672, 'PTRATIO': 0.016638426932553133, 'B': 0.007269346895828599, 'LSTAT': 0.20918649095691189}\n",
      "------ DecisionTreeRegressor : {'criterion': 'mae', 'max_depth': 3, 'max_features': None, 'max_leaf_nodes': None, 'min_impurity_decrease': 0.0, 'min_impurity_split': None, 'min_samples_leaf': 0.1, 'min_samples_split': 0.6, 'min_weight_fraction_leaf': 0.0, 'presort': False, 'random_state': None, 'splitter': 'best'}\n",
      "MSE:  43.260686274509816\n",
      "Feature importance:  {'CRIM': 0.0, 'ZN': 0.0, 'INDUS': 0.0, 'CHAS': 0.0, 'NOX': 0.0, 'RM': 0.439515772731289, 'AGE': 0.0, 'DIS': 0.0, 'RAD': 0.0, 'TAX': 0.0, 'PTRATIO': 0.0, 'B': 0.0, 'LSTAT': 0.560484227268711}\n",
      "====== .. _diabetes_dataset: shape is (442, 10)\n",
      "------ DecisionTreeRegressor : {'criterion': 'mse', 'max_depth': None, 'max_features': None, 'max_leaf_nodes': None, 'min_impurity_decrease': 0.0, 'min_impurity_split': None, 'min_samples_leaf': 1, 'min_samples_split': 2, 'min_weight_fraction_leaf': 0.0, 'presort': False, 'random_state': None, 'splitter': 'best'}\n",
      "MSE:  9147.91011235955\n",
      "Feature importance:  {'age': 0.050697931578001926, 'sex': 0.013324168398425616, 'bmi': 0.2168741001868621, 'bp': 0.08624531885014511, 's1': 0.08650248973334863, 's2': 0.04473330999045159, 's3': 0.02882955702579929, 's4': 0.015121443022790624, 's5': 0.3793408572310836, 's6': 0.07833082398309149}\n",
      "------ DecisionTreeRegressor : {'criterion': 'mae', 'max_depth': 3, 'max_features': None, 'max_leaf_nodes': None, 'min_impurity_decrease': 0.0, 'min_impurity_split': None, 'min_samples_leaf': 0.1, 'min_samples_split': 0.6, 'min_weight_fraction_leaf': 0.0, 'presort': False, 'random_state': None, 'splitter': 'best'}\n",
      "MSE:  4637.331460674157\n",
      "Feature importance:  {'age': 0.0, 'sex': 0.0, 'bmi': 0.0, 'bp': 0.0, 's1': 0.0, 's2': 0.0, 's3': 0.0, 's4': 0.0, 's5': 1.0, 's6': 0.0}\n",
      "########## classification ##########\n",
      "====== .. _wine_dataset: shape is (178, 13)\n",
      "------ DecisionTreeClassifier : {'class_weight': None, 'criterion': 'gini', 'max_depth': None, 'max_features': None, 'max_leaf_nodes': None, 'min_impurity_decrease': 0.0, 'min_impurity_split': None, 'min_samples_leaf': 1, 'min_samples_split': 2, 'min_weight_fraction_leaf': 0.0, 'presort': False, 'random_state': None, 'splitter': 'best'}\n",
      "Acuuracy:  0.9166666666666666\n",
      "Feature importance:  {'alcohol': 0.012774882062873548, 'malic_acid': 0.03341430089570366, 'ash': 0.0, 'alcalinity_of_ash': 0.0, 'magnesium': 0.0, 'total_phenols': 0.0, 'flavanoids': 0.0, 'nonflavanoid_phenols': 0.0, 'proanthocyanins': 0.0, 'color_intensity': 0.389692276085117, 'hue': 0.042441551540913926, 'od280/od315_of_diluted_wines': 0.11762342303451415, 'proline': 0.40405356638087775}\n",
      "------ DecisionTreeClassifier : {'class_weight': None, 'criterion': 'entropy', 'max_depth': 3, 'max_features': None, 'max_leaf_nodes': None, 'min_impurity_decrease': 0.0, 'min_impurity_split': None, 'min_samples_leaf': 0.1, 'min_samples_split': 0.6, 'min_weight_fraction_leaf': 0.0, 'presort': False, 'random_state': None, 'splitter': 'best'}\n",
      "Acuuracy:  0.8333333333333334\n",
      "Feature importance:  {'alcohol': 0.0, 'malic_acid': 0.0, 'ash': 0.0, 'alcalinity_of_ash': 0.0, 'magnesium': 0.0, 'total_phenols': 0.0, 'flavanoids': 0.5488258689798505, 'nonflavanoid_phenols': 0.0, 'proanthocyanins': 0.0, 'color_intensity': 0.0, 'hue': 0.0, 'od280/od315_of_diluted_wines': 0.0, 'proline': 0.4511741310201495}\n",
      "====== .. _breast_cancer_dataset: shape is (569, 30)\n",
      "------ DecisionTreeClassifier : {'class_weight': None, 'criterion': 'gini', 'max_depth': None, 'max_features': None, 'max_leaf_nodes': None, 'min_impurity_decrease': 0.0, 'min_impurity_split': None, 'min_samples_leaf': 1, 'min_samples_split': 2, 'min_weight_fraction_leaf': 0.0, 'presort': False, 'random_state': None, 'splitter': 'best'}\n",
      "Acuuracy:  0.9035087719298246\n",
      "Feature importance:  {'mean radius': 0.0, 'mean texture': 0.016202980705525998, 'mean perimeter': 0.0, 'mean area': 0.0, 'mean smoothness': 0.008651330466880297, 'mean compactness': 0.0, 'mean concavity': 0.0, 'mean concave points': 0.0, 'mean symmetry': 0.007382468665071185, 'mean fractal dimension': 0.0, 'radius error': 0.0, 'texture error': 0.0, 'perimeter error': 0.0, 'area error': 0.010907723561746898, 'smoothness error': 0.0, 'compactness error': 0.007382468665071185, 'concavity error': 0.0, 'concave points error': 0.0, 'symmetry error': 0.009045153798744248, 'fractal dimension error': 0.006152057220892656, 'worst radius': 0.0014764937330142367, 'worst texture': 0.0027553615352260996, 'worst perimeter': 0.7428589222447981, 'worst area': 0.07446654800932494, 'worst smoothness': 0.05229657442056663, 'worst compactness': 0.0, 'worst concavity': 0.0, 'worst concave points': 0.05163846111159426, 'worst symmetry': 0.0, 'worst fractal dimension': 0.00878345586154317}\n",
      "------ DecisionTreeClassifier : {'class_weight': None, 'criterion': 'entropy', 'max_depth': 3, 'max_features': None, 'max_leaf_nodes': None, 'min_impurity_decrease': 0.0, 'min_impurity_split': None, 'min_samples_leaf': 0.1, 'min_samples_split': 0.6, 'min_weight_fraction_leaf': 0.0, 'presort': False, 'random_state': None, 'splitter': 'best'}\n",
      "Acuuracy:  0.8596491228070176\n",
      "Feature importance:  {'mean radius': 0.0, 'mean texture': 0.0, 'mean perimeter': 0.0, 'mean area': 0.0, 'mean smoothness': 0.0, 'mean compactness': 0.0, 'mean concavity': 0.0, 'mean concave points': 0.0, 'mean symmetry': 0.0, 'mean fractal dimension': 0.0, 'radius error': 0.0, 'texture error': 0.0, 'perimeter error': 0.0, 'area error': 0.0, 'smoothness error': 0.0, 'compactness error': 0.0, 'concavity error': 0.0, 'concave points error': 0.0, 'symmetry error': 0.0, 'fractal dimension error': 0.0, 'worst radius': 0.0, 'worst texture': 0.0, 'worst perimeter': 0.0, 'worst area': 0.825544072739897, 'worst smoothness': 0.0, 'worst compactness': 0.0, 'worst concavity': 0.0, 'worst concave points': 0.1744559272601029, 'worst symmetry': 0.0, 'worst fractal dimension': 0.0}\n",
      "====== .. _iris_dataset: shape is (150, 4)\n",
      "------ DecisionTreeClassifier : {'class_weight': None, 'criterion': 'gini', 'max_depth': None, 'max_features': None, 'max_leaf_nodes': None, 'min_impurity_decrease': 0.0, 'min_impurity_split': None, 'min_samples_leaf': 1, 'min_samples_split': 2, 'min_weight_fraction_leaf': 0.0, 'presort': False, 'random_state': None, 'splitter': 'best'}\n",
      "Acuuracy:  0.9666666666666667\n",
      "Feature importance:  {'sepal length (cm)': 0.016775005242189136, 'sepal width (cm)': 0.0, 'petal length (cm)': 0.05652534661153923, 'petal width (cm)': 0.9266996481462717}\n",
      "------ DecisionTreeClassifier : {'class_weight': None, 'criterion': 'entropy', 'max_depth': 3, 'max_features': None, 'max_leaf_nodes': None, 'min_impurity_decrease': 0.0, 'min_impurity_split': None, 'min_samples_leaf': 0.1, 'min_samples_split': 0.6, 'min_weight_fraction_leaf': 0.0, 'presort': False, 'random_state': None, 'splitter': 'best'}\n",
      "Acuuracy:  0.9666666666666667\n",
      "Feature importance:  {'sepal length (cm)': 0.0, 'sepal width (cm)': 0.0, 'petal length (cm)': 0.6349428745557373, 'petal width (cm)': 0.3650571254442626}\n"
     ]
    }
   ],
   "source": [
    "print(\"#\"*10,\"regression\",\"#\"*10)\n",
    "for data in [datasets.load_boston(),datasets.load_diabetes()]:\n",
    "    print(\"=\"*6,data['DESCR'].splitlines()[0],\"shape is\",data.data.shape)\n",
    "    for model in [DecisionTreeRegressor(criterion='mse',max_depth=None,min_samples_split=2,min_samples_leaf=1),DecisionTreeRegressor(criterion='mae',max_depth=3,min_samples_split=0.6,min_samples_leaf=0.1)]:\n",
    "        print(\"-\"*6,type(model).__name__,\":\",model.get_params())\n",
    "        x_train, x_test, y_train, y_test = train_test_split(data.data, data.target, test_size=0.2, random_state=4)\n",
    "        model.fit(x_train, y_train)\n",
    "        y_pred = model.predict(x_test)\n",
    "        print(\"MSE: \", metrics.mean_squared_error(y_test, y_pred))\n",
    "        print(\"Feature importance: \", dict(zip(data.feature_names,model.feature_importances_)))\n",
    "print(\"#\"*10,\"classification\",\"#\"*10)\n",
    "for data in [datasets.load_wine(),datasets.load_breast_cancer(),datasets.load_iris()]:\n",
    "    print(\"=\"*6,data['DESCR'].splitlines()[0],\"shape is\",data.data.shape)\n",
    "    for model in [DecisionTreeClassifier(criterion='gini',max_depth=None,min_samples_split=2,min_samples_leaf=1),DecisionTreeClassifier(criterion='entropy',max_depth=3,min_samples_split=0.6,min_samples_leaf=0.1)]:\n",
    "        print(\"-\"*6,type(model).__name__,\":\",model.get_params())\n",
    "        x_train, x_test, y_train, y_test = train_test_split(data.data, data.target, test_size=0.2, random_state=4)\n",
    "        model.fit(x_train, y_train)\n",
    "        y_pred = model.predict(x_test)\n",
    "        print(\"Acuuracy: \", metrics.accuracy_score(y_test, y_pred))\n",
    "        print(\"Feature importance: \", dict(zip(data.feature_names,model.feature_importances_)))\n"
   ]
  }
 ],
 "metadata": {
  "kernelspec": {
   "display_name": "Python 3",
   "language": "python",
   "name": "python3"
  },
  "language_info": {
   "codemirror_mode": {
    "name": "ipython",
    "version": 3
   },
   "file_extension": ".py",
   "mimetype": "text/x-python",
   "name": "python",
   "nbconvert_exporter": "python",
   "pygments_lexer": "ipython3",
   "version": "3.7.3"
  }
 },
 "nbformat": 4,
 "nbformat_minor": 2
}
