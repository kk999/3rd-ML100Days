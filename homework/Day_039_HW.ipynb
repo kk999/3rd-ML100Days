{
 "cells": [
  {
   "cell_type": "markdown",
   "metadata": {},
   "source": [
    "## [作業重點]\n",
    "清楚了解 L1, L2 的意義與差異為何，並了解 LASSO 與 Ridge 之間的差異與使用情境"
   ]
  },
  {
   "cell_type": "markdown",
   "metadata": {},
   "source": [
    "## 作業"
   ]
  },
  {
   "cell_type": "markdown",
   "metadata": {},
   "source": [
    "請閱讀相關文獻，並回答下列問題\n",
    "\n",
    "[脊回歸 (Ridge Regression)](https://blog.csdn.net/daunxx/article/details/51578787)\n",
    "[Linear, Ridge, Lasso Regression 本質區別](https://www.zhihu.com/question/38121173)\n",
    "\n",
    "1. LASSO 回歸可以被用來作為 Feature selection 的工具，請了解 LASSO 模型為什麼可用來作 Feature selection\n",
    "2. 當自變數 (X) 存在高度共線性時，Ridge Regression 可以處理這樣的問題嗎?\n"
   ]
  },
  {
   "cell_type": "code",
   "execution_count": null,
   "metadata": {},
   "outputs": [],
   "source": [
    "1.\n",
    "因為LASSO回歸使用L1正規化，就是把訓後的係數的絕對值的和加到損失函式的結果中，\n",
    "而在進行迴歸的梯度下降的時候，梯度只有0、1、-1三種選擇來朝著0的方向移動，\n",
    "所以特徵係數很容易收斂到零，既然都是零了，自然就可以刪去那項特徵了。\n",
    "\n",
    "2.\n",
    "可以。\n",
    "\n",
    "自變數共線性的問題是，因為一般使用的線性回歸是基於一般多項式的方式進行處理的，而這種處理方式會得到很大的係數，\n",
    "一個大的係數會令輸入儘管只有一點點微小的變化，但輸出卻會大大的改變，也就是說對雜訊變得很敏感。\n",
    "\n",
    "而Ridge Regression的原理是，在損失函數中加入了係數大小這樣子的因子，\n",
    "所以過大的係數，會得到大的損失，\n",
    "在下一次梯度更新時因而會讓係數控制在相對小的數值上來前進到較佳解，\n",
    "最後訓得的結果就會是相對的小係數，對雜訊的敏感度也就沒那麼大了。"
   ]
  }
 ],
 "metadata": {
  "kernelspec": {
   "display_name": "Python 3",
   "language": "python",
   "name": "python3"
  },
  "language_info": {
   "codemirror_mode": {
    "name": "ipython",
    "version": 3
   },
   "file_extension": ".py",
   "mimetype": "text/x-python",
   "name": "python",
   "nbconvert_exporter": "python",
   "pygments_lexer": "ipython3",
   "version": "3.7.3"
  }
 },
 "nbformat": 4,
 "nbformat_minor": 2
}
