{
 "cells": [
  {
   "cell_type": "code",
   "execution_count": 1,
   "metadata": {},
   "outputs": [],
   "source": [
    "flower_mapping = {'daisy':0, 'dandelion':1, 'rose':2, 'sunflower':3, 'tulip':4}\n",
    "train_dir = \"ml100-03-final/image_data/train/\"\n",
    "test_dir = \"ml100-03-final/image_data/test/\""
   ]
  },
  {
   "cell_type": "code",
   "execution_count": 2,
   "metadata": {},
   "outputs": [
    {
     "name": "stderr",
     "output_type": "stream",
     "text": [
      "Using TensorFlow backend.\n"
     ]
    }
   ],
   "source": [
    "from keras.preprocessing.image import ImageDataGenerator\n",
    "train_datagen = ImageDataGenerator(\n",
    "    validation_split=0.1,\n",
    "    rescale=1./255,\n",
    "#     rotation_range=40,\n",
    "#     width_shift_range=0.2,\n",
    "#     height_shift_range=0.2,\n",
    "#     shear_range=0.2,\n",
    "#     zoom_range=0.2,\n",
    "#     horizontal_flip=True\n",
    ")"
   ]
  },
  {
   "cell_type": "code",
   "execution_count": 3,
   "metadata": {},
   "outputs": [
    {
     "name": "stdout",
     "output_type": "stream",
     "text": [
      "Found 2543 images belonging to 5 classes.\n",
      "Found 280 images belonging to 5 classes.\n"
     ]
    }
   ],
   "source": [
    "train_generator = train_datagen.flow_from_directory(\n",
    "    train_dir,\n",
    "    target_size=(150, 150),\n",
    "    batch_size=32,\n",
    "    class_mode='categorical',\n",
    "    subset='training',\n",
    ")\n",
    "validation_generator = train_datagen.flow_from_directory(\n",
    "    train_dir,\n",
    "    target_size=(150, 150),\n",
    "    batch_size=32,\n",
    "    class_mode='categorical',\n",
    "    subset='validation',\n",
    ")"
   ]
  },
  {
   "cell_type": "code",
   "execution_count": 4,
   "metadata": {},
   "outputs": [],
   "source": [
    "# import matplotlib.pyplot as plt\n",
    "# import numpy as np\n",
    "# %matplotlib inline\n",
    "# for data_batch, labels_batch in train_generator:\n",
    "#     print('data batch shape: ', data_batch.shape)\n",
    "#     print('labels batch shape: ', labels_batch.shape)\n",
    "#     print(labels_batch[1])\n",
    "#     plt.imshow(data_batch[1])\n",
    "#     break"
   ]
  },
  {
   "cell_type": "code",
   "execution_count": 5,
   "metadata": {},
   "outputs": [
    {
     "name": "stdout",
     "output_type": "stream",
     "text": [
      "(150, 150) 5\n"
     ]
    }
   ],
   "source": [
    "import numpy as np\n",
    "img_shape = train_generator.target_size\n",
    "num_classes = len(np.unique(train_generator.classes))\n",
    "print(img_shape, num_classes)"
   ]
  },
  {
   "cell_type": "code",
   "execution_count": 6,
   "metadata": {},
   "outputs": [],
   "source": [
    "import keras\n",
    "from keras.models import Sequential\n",
    "from keras.layers import Dense, Dropout, Activation, Flatten\n",
    "from keras.layers import Conv2D, MaxPooling2D"
   ]
  },
  {
   "cell_type": "code",
   "execution_count": 7,
   "metadata": {},
   "outputs": [
    {
     "name": "stdout",
     "output_type": "stream",
     "text": [
      "Model: \"sequential_1\"\n",
      "_________________________________________________________________\n",
      "Layer (type)                 Output Shape              Param #   \n",
      "=================================================================\n",
      "conv2d_1 (Conv2D)            (None, 150, 150, 32)      896       \n",
      "_________________________________________________________________\n",
      "activation_1 (Activation)    (None, 150, 150, 32)      0         \n",
      "_________________________________________________________________\n",
      "conv2d_2 (Conv2D)            (None, 150, 150, 32)      9248      \n",
      "_________________________________________________________________\n",
      "activation_2 (Activation)    (None, 150, 150, 32)      0         \n",
      "_________________________________________________________________\n",
      "max_pooling2d_1 (MaxPooling2 (None, 75, 75, 32)        0         \n",
      "_________________________________________________________________\n",
      "conv2d_3 (Conv2D)            (None, 75, 75, 64)        18496     \n",
      "_________________________________________________________________\n",
      "activation_3 (Activation)    (None, 75, 75, 64)        0         \n",
      "_________________________________________________________________\n",
      "conv2d_4 (Conv2D)            (None, 75, 75, 64)        36928     \n",
      "_________________________________________________________________\n",
      "activation_4 (Activation)    (None, 75, 75, 64)        0         \n",
      "_________________________________________________________________\n",
      "max_pooling2d_2 (MaxPooling2 (None, 38, 38, 64)        0         \n",
      "_________________________________________________________________\n",
      "dropout_1 (Dropout)          (None, 38, 38, 64)        0         \n",
      "_________________________________________________________________\n",
      "conv2d_5 (Conv2D)            (None, 38, 38, 128)       73856     \n",
      "_________________________________________________________________\n",
      "activation_5 (Activation)    (None, 38, 38, 128)       0         \n",
      "_________________________________________________________________\n",
      "conv2d_6 (Conv2D)            (None, 38, 38, 128)       147584    \n",
      "_________________________________________________________________\n",
      "activation_6 (Activation)    (None, 38, 38, 128)       0         \n",
      "_________________________________________________________________\n",
      "max_pooling2d_3 (MaxPooling2 (None, 19, 19, 128)       0         \n",
      "_________________________________________________________________\n",
      "dropout_2 (Dropout)          (None, 19, 19, 128)       0         \n",
      "_________________________________________________________________\n",
      "conv2d_7 (Conv2D)            (None, 19, 19, 256)       295168    \n",
      "_________________________________________________________________\n",
      "activation_7 (Activation)    (None, 19, 19, 256)       0         \n",
      "_________________________________________________________________\n",
      "conv2d_8 (Conv2D)            (None, 19, 19, 256)       590080    \n",
      "_________________________________________________________________\n",
      "activation_8 (Activation)    (None, 19, 19, 256)       0         \n",
      "_________________________________________________________________\n",
      "max_pooling2d_4 (MaxPooling2 (None, 10, 10, 256)       0         \n",
      "_________________________________________________________________\n",
      "dropout_3 (Dropout)          (None, 10, 10, 256)       0         \n",
      "_________________________________________________________________\n",
      "flatten_1 (Flatten)          (None, 25600)             0         \n",
      "_________________________________________________________________\n",
      "dense_1 (Dense)              (None, 128)               3276928   \n",
      "_________________________________________________________________\n",
      "activation_9 (Activation)    (None, 128)               0         \n",
      "_________________________________________________________________\n",
      "dropout_4 (Dropout)          (None, 128)               0         \n",
      "_________________________________________________________________\n",
      "dense_2 (Dense)              (None, 5)                 645       \n",
      "_________________________________________________________________\n",
      "activation_10 (Activation)   (None, 5)                 0         \n",
      "=================================================================\n",
      "Total params: 4,449,829\n",
      "Trainable params: 4,449,829\n",
      "Non-trainable params: 0\n",
      "_________________________________________________________________\n"
     ]
    }
   ],
   "source": [
    "model = Sequential()\n",
    "model.add(Conv2D(32, (3, 3), padding='same', input_shape=img_shape+(3,), kernel_initializer='he_normal'))\n",
    "model.add(Activation('relu'))\n",
    "model.add(Conv2D(32, (3, 3), padding='same', kernel_initializer='he_normal'))\n",
    "model.add(Activation('relu'))\n",
    "model.add(MaxPooling2D(pool_size=(2, 2), strides=2, padding='same'))\n",
    "\n",
    "for n in [64, 128, 256]:\n",
    "    model.add(Conv2D(n, (3, 3), padding='same', kernel_initializer='he_normal'))\n",
    "    model.add(Activation('relu'))\n",
    "    model.add(Conv2D(n, (3, 3), padding='same', kernel_initializer='he_normal'))\n",
    "    model.add(Activation('relu'))\n",
    "    model.add(MaxPooling2D(pool_size=(2, 2), strides=2, padding='same'))\n",
    "    model.add(Dropout(0.5))\n",
    "\n",
    "model.add(Flatten())\n",
    "model.add(Dense(units=128, kernel_initializer='he_normal'))\n",
    "model.add(Activation('relu'))\n",
    "model.add(Dropout(0.5))\n",
    "model.add(Dense(num_classes, kernel_initializer='he_normal'))\n",
    "model.add(Activation('softmax'))\n",
    "model.summary()\n",
    "\n",
    "model.compile(loss='categorical_crossentropy', optimizer='adadelta', metrics=['accuracy'])"
   ]
  },
  {
   "cell_type": "code",
   "execution_count": 8,
   "metadata": {},
   "outputs": [
    {
     "name": "stdout",
     "output_type": "stream",
     "text": [
      "Epoch 1/33\n",
      "79/79 [==============================] - 161s 2s/step - loss: 1.9313 - accuracy: 0.2274 - val_loss: 1.5568 - val_accuracy: 0.3008\n",
      "Epoch 2/33\n",
      "79/79 [==============================] - 161s 2s/step - loss: 1.5554 - accuracy: 0.3063 - val_loss: 1.5686 - val_accuracy: 0.2863\n",
      "Epoch 3/33\n",
      "79/79 [==============================] - 161s 2s/step - loss: 1.4224 - accuracy: 0.4002 - val_loss: 1.3959 - val_accuracy: 0.4758\n",
      "Epoch 4/33\n",
      "79/79 [==============================] - 161s 2s/step - loss: 1.2802 - accuracy: 0.4548 - val_loss: 1.2345 - val_accuracy: 0.3669\n",
      "Epoch 5/33\n",
      "79/79 [==============================] - 159s 2s/step - loss: 1.1793 - accuracy: 0.5121 - val_loss: 1.1318 - val_accuracy: 0.4758\n",
      "Epoch 6/33\n",
      "79/79 [==============================] - 156s 2s/step - loss: 1.1242 - accuracy: 0.5643 - val_loss: 0.7959 - val_accuracy: 0.6452\n",
      "Epoch 7/33\n",
      "79/79 [==============================] - 157s 2s/step - loss: 1.0400 - accuracy: 0.6002 - val_loss: 0.9824 - val_accuracy: 0.6532\n",
      "Epoch 8/33\n",
      "79/79 [==============================] - 156s 2s/step - loss: 0.9949 - accuracy: 0.6181 - val_loss: 1.0436 - val_accuracy: 0.6290\n",
      "Epoch 9/33\n",
      "79/79 [==============================] - 156s 2s/step - loss: 0.9313 - accuracy: 0.6468 - val_loss: 0.7993 - val_accuracy: 0.6411\n",
      "Epoch 10/33\n",
      "79/79 [==============================] - 156s 2s/step - loss: 0.8684 - accuracy: 0.6738 - val_loss: 1.3385 - val_accuracy: 0.5977\n",
      "Epoch 11/33\n",
      "79/79 [==============================] - 157s 2s/step - loss: 0.8567 - accuracy: 0.6575 - val_loss: 0.9842 - val_accuracy: 0.6573\n",
      "Epoch 12/33\n",
      "79/79 [==============================] - 156s 2s/step - loss: 0.8187 - accuracy: 0.6937 - val_loss: 0.5606 - val_accuracy: 0.7339\n",
      "Epoch 13/33\n",
      "79/79 [==============================] - 158s 2s/step - loss: 0.7913 - accuracy: 0.7021 - val_loss: 0.6066 - val_accuracy: 0.6815\n",
      "Epoch 14/33\n",
      "79/79 [==============================] - 156s 2s/step - loss: 0.7605 - accuracy: 0.7256 - val_loss: 0.6072 - val_accuracy: 0.7016\n",
      "Epoch 15/33\n",
      "79/79 [==============================] - 157s 2s/step - loss: 0.7143 - accuracy: 0.7368 - val_loss: 0.8332 - val_accuracy: 0.6694\n",
      "Epoch 16/33\n",
      "79/79 [==============================] - 156s 2s/step - loss: 0.6858 - accuracy: 0.7563 - val_loss: 1.0295 - val_accuracy: 0.6895\n",
      "Epoch 17/33\n",
      "79/79 [==============================] - 156s 2s/step - loss: 0.6722 - accuracy: 0.7507 - val_loss: 1.2577 - val_accuracy: 0.7177\n",
      "Epoch 18/33\n",
      "79/79 [==============================] - 155s 2s/step - loss: 0.5817 - accuracy: 0.7843 - val_loss: 0.7849 - val_accuracy: 0.6895\n",
      "Epoch 19/33\n",
      "79/79 [==============================] - 157s 2s/step - loss: 0.6341 - accuracy: 0.7774 - val_loss: 0.8329 - val_accuracy: 0.7148\n",
      "Epoch 20/33\n",
      "79/79 [==============================] - 157s 2s/step - loss: 0.5209 - accuracy: 0.8093 - val_loss: 0.7425 - val_accuracy: 0.6734\n",
      "Epoch 21/33\n",
      "79/79 [==============================] - 156s 2s/step - loss: 0.5453 - accuracy: 0.8055 - val_loss: 1.5154 - val_accuracy: 0.6734\n",
      "Epoch 22/33\n",
      "79/79 [==============================] - 156s 2s/step - loss: 0.5159 - accuracy: 0.8172 - val_loss: 0.5306 - val_accuracy: 0.7379\n",
      "Epoch 23/33\n",
      "79/79 [==============================] - 156s 2s/step - loss: 0.4650 - accuracy: 0.8323 - val_loss: 0.5454 - val_accuracy: 0.7540\n",
      "Epoch 24/33\n",
      "79/79 [==============================] - 156s 2s/step - loss: 0.4190 - accuracy: 0.8438 - val_loss: 0.5409 - val_accuracy: 0.7258\n",
      "Epoch 25/33\n",
      "79/79 [==============================] - 157s 2s/step - loss: 0.4068 - accuracy: 0.8585 - val_loss: 0.9129 - val_accuracy: 0.6895\n",
      "Epoch 26/33\n",
      "79/79 [==============================] - 157s 2s/step - loss: 0.3974 - accuracy: 0.8592 - val_loss: 0.9368 - val_accuracy: 0.7137\n",
      "Epoch 27/33\n",
      "79/79 [==============================] - 156s 2s/step - loss: 0.3307 - accuracy: 0.8869 - val_loss: 1.3535 - val_accuracy: 0.6935\n",
      "Epoch 28/33\n",
      "79/79 [==============================] - 156s 2s/step - loss: 0.3173 - accuracy: 0.8833 - val_loss: 1.2582 - val_accuracy: 0.7383\n",
      "Epoch 29/33\n",
      "79/79 [==============================] - 157s 2s/step - loss: 0.3214 - accuracy: 0.8893 - val_loss: 1.5574 - val_accuracy: 0.6935\n",
      "Epoch 30/33\n",
      "79/79 [==============================] - 156s 2s/step - loss: 0.2967 - accuracy: 0.9008 - val_loss: 0.9490 - val_accuracy: 0.7177\n",
      "Epoch 31/33\n",
      "79/79 [==============================] - 157s 2s/step - loss: 0.2628 - accuracy: 0.9080 - val_loss: 1.0295 - val_accuracy: 0.6935\n",
      "Epoch 32/33\n",
      "79/79 [==============================] - 156s 2s/step - loss: 0.2840 - accuracy: 0.9048 - val_loss: 1.0480 - val_accuracy: 0.7097\n",
      "Epoch 33/33\n",
      "79/79 [==============================] - 156s 2s/step - loss: 0.2654 - accuracy: 0.9120 - val_loss: 0.9833 - val_accuracy: 0.7177\n"
     ]
    }
   ],
   "source": [
    "history = model.fit_generator(\n",
    "    train_generator,\n",
    "    steps_per_epoch=train_generator.samples//32,\n",
    "    epochs=33,\n",
    "    shuffle=True,\n",
    "    validation_data = validation_generator,\n",
    "    validation_steps = validation_generator.samples//32,\n",
    ")"
   ]
  },
  {
   "cell_type": "code",
   "execution_count": 9,
   "metadata": {},
   "outputs": [],
   "source": [
    "# model.save(\"3.l98a71.h5\")\n",
    "# from keras.models import load_model\n",
    "# from keras.models import Sequential\n",
    "# model = Sequential()\n",
    "# model = load_model(\"1.h5\")"
   ]
  },
  {
   "cell_type": "code",
   "execution_count": 15,
   "metadata": {},
   "outputs": [
    {
     "data": {
      "text/plain": [
       "{'daisy': 0, 'dandelion': 1, 'rose': 2, 'sunflower': 3, 'tulip': 4}"
      ]
     },
     "execution_count": 15,
     "metadata": {},
     "output_type": "execute_result"
    }
   ],
   "source": [
    "train_generator.class_indices"
   ]
  },
  {
   "cell_type": "code",
   "execution_count": 14,
   "metadata": {},
   "outputs": [
    {
     "name": "stdout",
     "output_type": "stream",
     "text": [
      "Found 2000 images belonging to 1 classes.\n"
     ]
    }
   ],
   "source": [
    "test_generator = ImageDataGenerator(\n",
    "    rescale=1./255,\n",
    ").flow_from_directory(\n",
    "    test_dir,\n",
    "    target_size=(150, 150),\n",
    "    batch_size=1,\n",
    "    class_mode=None,\n",
    "    shuffle=False,\n",
    ")"
   ]
  },
  {
   "cell_type": "code",
   "execution_count": 47,
   "metadata": {},
   "outputs": [
    {
     "name": "stdout",
     "output_type": "stream",
     "text": [
      "2000/2000 [==============================] - 48s 24ms/step\n"
     ]
    }
   ],
   "source": [
    "test_generator.reset()\n",
    "pred = model.predict_generator(test_generator, verbose=1)\n",
    "predicted_class_indices = np.argmax(pred, axis=1)\n",
    "labels = (train_generator.class_indices)\n",
    "label = dict((v,k) for k,v in labels.items())\n",
    "predictions = [label[i] for i in predicted_class_indices]\n",
    "filenames = [s[5:-4] for s in test_generator.filenames]"
   ]
  },
  {
   "cell_type": "code",
   "execution_count": null,
   "metadata": {},
   "outputs": [],
   "source": [
    "for idx in range(len(filenames)):\n",
    "    print('predict  %d' % (int(predictions[idx])))\n",
    "    print('title    %s' % filenames[idx])\n",
    "    print('')"
   ]
  },
  {
   "cell_type": "code",
   "execution_count": 48,
   "metadata": {},
   "outputs": [
    {
     "name": "stdout",
     "output_type": "stream",
     "text": [
      "Sequential 20191226221832\n"
     ]
    }
   ],
   "source": [
    "import pandas as pd\n",
    "from datetime import datetime\n",
    "now = datetime.today().strftime('%Y%m%d%H%M%S')\n",
    "mname = type(model).__name__\n",
    "print(mname, now)\n",
    "pd.DataFrame({'id': filenames, 'flower_class': predicted_class_indices}).to_csv('JL_'+mname+'.'+now+'.csv', index=False)"
   ]
  }
 ],
 "metadata": {
  "kernelspec": {
   "display_name": "Python 3",
   "language": "python",
   "name": "python3"
  },
  "language_info": {
   "codemirror_mode": {
    "name": "ipython",
    "version": 3
   },
   "file_extension": ".py",
   "mimetype": "text/x-python",
   "name": "python",
   "nbconvert_exporter": "python",
   "pygments_lexer": "ipython3",
   "version": "3.7.3"
  }
 },
 "nbformat": 4,
 "nbformat_minor": 2
}
