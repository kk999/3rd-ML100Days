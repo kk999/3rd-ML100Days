{
 "cells": [
  {
   "cell_type": "markdown",
   "metadata": {},
   "source": [
    "## [作業重點]\n",
    "確保你了解隨機森林模型中每個超參數的意義，並觀察調整超參數對結果的影響"
   ]
  },
  {
   "cell_type": "markdown",
   "metadata": {},
   "source": [
    "## 作業\n",
    "\n",
    "1. 試著調整 RandomForestClassifier(...) 中的參數，並觀察是否會改變結果？\n",
    "2. 改用其他資料集 (boston, wine)，並與回歸模型與決策樹的結果進行比較"
   ]
  },
  {
   "cell_type": "code",
   "execution_count": 1,
   "metadata": {},
   "outputs": [],
   "source": [
    "from sklearn import datasets, metrics\n",
    "from sklearn.tree import DecisionTreeClassifier, DecisionTreeRegressor\n",
    "from sklearn.ensemble import RandomForestClassifier,RandomForestRegressor\n",
    "from sklearn.model_selection import train_test_split"
   ]
  },
  {
   "cell_type": "code",
   "execution_count": 2,
   "metadata": {},
   "outputs": [
    {
     "name": "stdout",
     "output_type": "stream",
     "text": [
      "########## classification ##########\n",
      "====== .. _iris_dataset: shape is (150, 4)\n",
      "------ RandomForestClassifier : {'bootstrap': True, 'class_weight': None, 'criterion': 'gini', 'max_depth': None, 'max_features': 'auto', 'max_leaf_nodes': None, 'min_impurity_decrease': 0.0, 'min_impurity_split': None, 'min_samples_leaf': 1, 'min_samples_split': 2, 'min_weight_fraction_leaf': 0.0, 'n_estimators': 20, 'n_jobs': None, 'oob_score': False, 'random_state': None, 'verbose': 0, 'warm_start': False}\n",
      "Acuuracy:  0.9666666666666667\n",
      "Feature importance:  {'sepal length (cm)': 0.10242042493649711, 'sepal width (cm)': 0.019746328866933126, 'petal length (cm)': 0.5000921630444558, 'petal width (cm)': 0.377741083152114}\n",
      "------ RandomForestClassifier : {'bootstrap': True, 'class_weight': None, 'criterion': 'entropy', 'max_depth': 3, 'max_features': 'auto', 'max_leaf_nodes': None, 'min_impurity_decrease': 0.0, 'min_impurity_split': None, 'min_samples_leaf': 0.1, 'min_samples_split': 0.6, 'min_weight_fraction_leaf': 0.0, 'n_estimators': 10, 'n_jobs': None, 'oob_score': False, 'random_state': None, 'verbose': 0, 'warm_start': False}\n",
      "Acuuracy:  0.8\n",
      "Feature importance:  {'sepal length (cm)': 0.5, 'sepal width (cm)': 0.0, 'petal length (cm)': 0.2, 'petal width (cm)': 0.3}\n",
      "------ DecisionTreeClassifier : {'class_weight': None, 'criterion': 'gini', 'max_depth': None, 'max_features': None, 'max_leaf_nodes': None, 'min_impurity_decrease': 0.0, 'min_impurity_split': None, 'min_samples_leaf': 1, 'min_samples_split': 2, 'min_weight_fraction_leaf': 0.0, 'presort': False, 'random_state': None, 'splitter': 'best'}\n",
      "Acuuracy:  0.9666666666666667\n",
      "Feature importance:  {'sepal length (cm)': 0.016775005242189136, 'sepal width (cm)': 0.0, 'petal length (cm)': 0.5167017767538832, 'petal width (cm)': 0.46652321800392776}\n",
      "------ DecisionTreeClassifier : {'class_weight': None, 'criterion': 'entropy', 'max_depth': 3, 'max_features': None, 'max_leaf_nodes': None, 'min_impurity_decrease': 0.0, 'min_impurity_split': None, 'min_samples_leaf': 0.1, 'min_samples_split': 0.6, 'min_weight_fraction_leaf': 0.0, 'presort': False, 'random_state': None, 'splitter': 'best'}\n",
      "Acuuracy:  0.9666666666666667\n",
      "Feature importance:  {'sepal length (cm)': 0.0, 'sepal width (cm)': 0.0, 'petal length (cm)': 0.0, 'petal width (cm)': 1.0}\n",
      "====== .. _wine_dataset: shape is (178, 13)\n",
      "------ RandomForestClassifier : {'bootstrap': True, 'class_weight': None, 'criterion': 'gini', 'max_depth': None, 'max_features': 'auto', 'max_leaf_nodes': None, 'min_impurity_decrease': 0.0, 'min_impurity_split': None, 'min_samples_leaf': 1, 'min_samples_split': 2, 'min_weight_fraction_leaf': 0.0, 'n_estimators': 20, 'n_jobs': None, 'oob_score': False, 'random_state': None, 'verbose': 0, 'warm_start': False}\n",
      "Acuuracy:  0.9444444444444444\n",
      "Feature importance:  {'alcohol': 0.11339377995559449, 'malic_acid': 0.01219610008566956, 'ash': 0.02904771998616206, 'alcalinity_of_ash': 0.0354683370940336, 'magnesium': 0.02457306014709784, 'total_phenols': 0.026735123364799083, 'flavanoids': 0.17805663793695578, 'nonflavanoid_phenols': 0.011184401269344278, 'proanthocyanins': 0.006598490063395294, 'color_intensity': 0.20505623602268577, 'hue': 0.11665236096234805, 'od280/od315_of_diluted_wines': 0.0676770203368762, 'proline': 0.17336073277503808}\n",
      "------ RandomForestClassifier : {'bootstrap': True, 'class_weight': None, 'criterion': 'entropy', 'max_depth': 3, 'max_features': 'auto', 'max_leaf_nodes': None, 'min_impurity_decrease': 0.0, 'min_impurity_split': None, 'min_samples_leaf': 0.1, 'min_samples_split': 0.6, 'min_weight_fraction_leaf': 0.0, 'n_estimators': 10, 'n_jobs': None, 'oob_score': False, 'random_state': None, 'verbose': 0, 'warm_start': False}\n",
      "Acuuracy:  0.9444444444444444\n",
      "Feature importance:  {'alcohol': 0.125, 'malic_acid': 0.0, 'ash': 0.0, 'alcalinity_of_ash': 0.0, 'magnesium': 0.125, 'total_phenols': 0.125, 'flavanoids': 0.375, 'nonflavanoid_phenols': 0.0, 'proanthocyanins': 0.0, 'color_intensity': 0.0, 'hue': 0.125, 'od280/od315_of_diluted_wines': 0.0, 'proline': 0.125}\n",
      "------ DecisionTreeClassifier : {'class_weight': None, 'criterion': 'gini', 'max_depth': None, 'max_features': None, 'max_leaf_nodes': None, 'min_impurity_decrease': 0.0, 'min_impurity_split': None, 'min_samples_leaf': 1, 'min_samples_split': 2, 'min_weight_fraction_leaf': 0.0, 'presort': False, 'random_state': None, 'splitter': 'best'}\n",
      "Acuuracy:  0.8611111111111112\n",
      "Feature importance:  {'alcohol': 0.05876445748921836, 'malic_acid': 0.0, 'ash': 0.0, 'alcalinity_of_ash': 0.0, 'magnesium': 0.0, 'total_phenols': 0.016168210110824352, 'flavanoids': 0.0, 'nonflavanoid_phenols': 0.0, 'proanthocyanins': 0.0, 'color_intensity': 0.3609487914436515, 'hue': 0.042441551540913926, 'od280/od315_of_diluted_wines': 0.11762342303451415, 'proline': 0.40405356638087775}\n",
      "------ DecisionTreeClassifier : {'class_weight': None, 'criterion': 'entropy', 'max_depth': 3, 'max_features': None, 'max_leaf_nodes': None, 'min_impurity_decrease': 0.0, 'min_impurity_split': None, 'min_samples_leaf': 0.1, 'min_samples_split': 0.6, 'min_weight_fraction_leaf': 0.0, 'presort': False, 'random_state': None, 'splitter': 'best'}\n",
      "Acuuracy:  0.8333333333333334\n",
      "Feature importance:  {'alcohol': 0.0, 'malic_acid': 0.0, 'ash': 0.0, 'alcalinity_of_ash': 0.0, 'magnesium': 0.0, 'total_phenols': 0.0, 'flavanoids': 0.5488258689798505, 'nonflavanoid_phenols': 0.0, 'proanthocyanins': 0.0, 'color_intensity': 0.0, 'hue': 0.0, 'od280/od315_of_diluted_wines': 0.0, 'proline': 0.4511741310201495}\n",
      "====== .. _breast_cancer_dataset: shape is (569, 30)\n",
      "------ RandomForestClassifier : {'bootstrap': True, 'class_weight': None, 'criterion': 'gini', 'max_depth': None, 'max_features': 'auto', 'max_leaf_nodes': None, 'min_impurity_decrease': 0.0, 'min_impurity_split': None, 'min_samples_leaf': 1, 'min_samples_split': 2, 'min_weight_fraction_leaf': 0.0, 'n_estimators': 20, 'n_jobs': None, 'oob_score': False, 'random_state': None, 'verbose': 0, 'warm_start': False}\n",
      "Acuuracy:  0.8947368421052632\n",
      "Feature importance:  {'mean radius': 0.008795978879495337, 'mean texture': 0.005966096573938597, 'mean perimeter': 0.19481874367396723, 'mean area': 0.013156336310102415, 'mean smoothness': 0.00483018665872743, 'mean compactness': 0.0029097865814829748, 'mean concavity': 0.04103173424632815, 'mean concave points': 0.07034405334606034, 'mean symmetry': 0.002681557583556888, 'mean fractal dimension': 0.0013406706502959006, 'radius error': 0.006513343227287559, 'texture error': 0.004123669754375151, 'perimeter error': 0.03140134768281903, 'area error': 0.009419504989561771, 'smoothness error': 0.006522571466392181, 'compactness error': 0.00033743028912708143, 'concavity error': 0.0031981542679715433, 'concave points error': 0.002115019404886589, 'symmetry error': 0.0069975137226456876, 'fractal dimension error': 0.003471669096968289, 'worst radius': 0.11985990628285648, 'worst texture': 0.0076725288905290885, 'worst perimeter': 0.1746632691075345, 'worst area': 0.0997770811466183, 'worst smoothness': 0.013711796078972929, 'worst compactness': 0.03574212130280034, 'worst concavity': 0.013323467856389475, 'worst concave points': 0.09716989914097603, 'worst symmetry': 0.014680992401205139, 'worst fractal dimension': 0.003423569386127677}\n",
      "------ RandomForestClassifier : {'bootstrap': True, 'class_weight': None, 'criterion': 'entropy', 'max_depth': 3, 'max_features': 'auto', 'max_leaf_nodes': None, 'min_impurity_decrease': 0.0, 'min_impurity_split': None, 'min_samples_leaf': 0.1, 'min_samples_split': 0.6, 'min_weight_fraction_leaf': 0.0, 'n_estimators': 10, 'n_jobs': None, 'oob_score': False, 'random_state': None, 'verbose': 0, 'warm_start': False}\n",
      "Acuuracy:  0.8859649122807017\n",
      "Feature importance:  {'mean radius': 0.09999999999999998, 'mean texture': 0.0, 'mean perimeter': 0.0, 'mean area': 0.09999999999999998, 'mean smoothness': 0.0, 'mean compactness': 0.0, 'mean concavity': 0.09999999999999998, 'mean concave points': 0.09999999999999998, 'mean symmetry': 0.0, 'mean fractal dimension': 0.0, 'radius error': 0.0, 'texture error': 0.0, 'perimeter error': 0.0, 'area error': 0.0, 'smoothness error': 0.0, 'compactness error': 0.0, 'concavity error': 0.0, 'concave points error': 0.0, 'symmetry error': 0.0, 'fractal dimension error': 0.0, 'worst radius': 0.09999999999999998, 'worst texture': 0.0, 'worst perimeter': 0.09999999999999998, 'worst area': 0.29999999999999993, 'worst smoothness': 0.0, 'worst compactness': 0.0, 'worst concavity': 0.0, 'worst concave points': 0.09999999999999998, 'worst symmetry': 0.0, 'worst fractal dimension': 0.0}\n",
      "------ DecisionTreeClassifier : {'class_weight': None, 'criterion': 'gini', 'max_depth': None, 'max_features': None, 'max_leaf_nodes': None, 'min_impurity_decrease': 0.0, 'min_impurity_split': None, 'min_samples_leaf': 1, 'min_samples_split': 2, 'min_weight_fraction_leaf': 0.0, 'presort': False, 'random_state': None, 'splitter': 'best'}\n",
      "Acuuracy:  0.868421052631579\n",
      "Feature importance:  {'mean radius': 0.0, 'mean texture': 0.014418884111467165, 'mean perimeter': 0.0, 'mean area': 0.0, 'mean smoothness': 0.0, 'mean compactness': 0.0, 'mean concavity': 0.0, 'mean concave points': 0.0, 'mean symmetry': 0.009228085831338986, 'mean fractal dimension': 0.0, 'radius error': 0.016165924526614358, 'texture error': 0.0, 'perimeter error': 0.001784096594058836, 'area error': 0.01829019222681809, 'smoothness error': 0.0, 'compactness error': 0.0, 'concavity error': 0.0, 'concave points error': 0.0, 'symmetry error': 0.00904515379874425, 'fractal dimension error': 0.006152057220892657, 'worst radius': 0.0, 'worst texture': 0.0027553615352261, 'worst perimeter': 0.7428589222447982, 'worst area': 0.0667149559110002, 'worst smoothness': 0.05229657442056664, 'worst compactness': 0.0, 'worst concavity': 0.008651330466880299, 'worst concave points': 0.05163846111159427, 'worst symmetry': 0.0, 'worst fractal dimension': 0.0}\n",
      "------ DecisionTreeClassifier : {'class_weight': None, 'criterion': 'entropy', 'max_depth': 3, 'max_features': None, 'max_leaf_nodes': None, 'min_impurity_decrease': 0.0, 'min_impurity_split': None, 'min_samples_leaf': 0.1, 'min_samples_split': 0.6, 'min_weight_fraction_leaf': 0.0, 'presort': False, 'random_state': None, 'splitter': 'best'}\n",
      "Acuuracy:  0.8596491228070176\n",
      "Feature importance:  {'mean radius': 0.0, 'mean texture': 0.0, 'mean perimeter': 0.0, 'mean area': 0.0, 'mean smoothness': 0.0, 'mean compactness': 0.0, 'mean concavity': 0.0, 'mean concave points': 0.0, 'mean symmetry': 0.0, 'mean fractal dimension': 0.0, 'radius error': 0.0, 'texture error': 0.0, 'perimeter error': 0.0, 'area error': 0.0, 'smoothness error': 0.0, 'compactness error': 0.0, 'concavity error': 0.0, 'concave points error': 0.0, 'symmetry error': 0.0, 'fractal dimension error': 0.0, 'worst radius': 0.0, 'worst texture': 0.0, 'worst perimeter': 0.0, 'worst area': 0.825544072739897, 'worst smoothness': 0.0, 'worst compactness': 0.0, 'worst concavity': 0.0, 'worst concave points': 0.1744559272601029, 'worst symmetry': 0.0, 'worst fractal dimension': 0.0}\n",
      "########## regression ##########\n",
      "====== .. _boston_dataset: shape is (506, 13)\n",
      "------ RandomForestRegressor : {'bootstrap': True, 'criterion': 'mse', 'max_depth': None, 'max_features': 'auto', 'max_leaf_nodes': None, 'min_impurity_decrease': 0.0, 'min_impurity_split': None, 'min_samples_leaf': 1, 'min_samples_split': 2, 'min_weight_fraction_leaf': 0.0, 'n_estimators': 20, 'n_jobs': None, 'oob_score': False, 'random_state': None, 'verbose': 0, 'warm_start': False}\n"
     ]
    },
    {
     "name": "stdout",
     "output_type": "stream",
     "text": [
      "MSE:  17.411298529411756\n",
      "Feature importance:  {'CRIM': 0.04514698064066565, 'ZN': 0.00044197779955872346, 'INDUS': 0.005769995591428217, 'CHAS': 0.0011193870746782867, 'NOX': 0.021457300172308368, 'RM': 0.5155080261742151, 'AGE': 0.011728075813551264, 'DIS': 0.039790487996288176, 'RAD': 0.005654112268636201, 'TAX': 0.01572273208049088, 'PTRATIO': 0.01817434173787532, 'B': 0.02313502767628773, 'LSTAT': 0.29635155497401594}\n",
      "------ RandomForestRegressor : {'bootstrap': True, 'criterion': 'mae', 'max_depth': 3, 'max_features': 'auto', 'max_leaf_nodes': None, 'min_impurity_decrease': 0.0, 'min_impurity_split': None, 'min_samples_leaf': 0.1, 'min_samples_split': 0.6, 'min_weight_fraction_leaf': 0.0, 'n_estimators': 10, 'n_jobs': None, 'oob_score': False, 'random_state': None, 'verbose': 0, 'warm_start': False}\n",
      "MSE:  60.42401813725488\n",
      "Feature importance:  {'CRIM': 0.0, 'ZN': 0.0, 'INDUS': 0.0, 'CHAS': 0.0, 'NOX': 0.0, 'RM': 0.3333333333333333, 'AGE': 0.0, 'DIS': 0.0, 'RAD': 0.0, 'TAX': 0.0, 'PTRATIO': 0.0, 'B': 0.0, 'LSTAT': 0.6666666666666666}\n",
      "------ DecisionTreeRegressor : {'criterion': 'mse', 'max_depth': None, 'max_features': None, 'max_leaf_nodes': None, 'min_impurity_decrease': 0.0, 'min_impurity_split': None, 'min_samples_leaf': 1, 'min_samples_split': 2, 'min_weight_fraction_leaf': 0.0, 'presort': False, 'random_state': None, 'splitter': 'best'}\n",
      "MSE:  23.973039215686274\n",
      "Feature importance:  {'CRIM': 0.05250367202985055, 'ZN': 0.00060222792331257, 'INDUS': 0.000986851649190194, 'CHAS': 0.0, 'NOX': 0.015280990171602398, 'RM': 0.5821111586239711, 'AGE': 0.012405368880752258, 'DIS': 0.059911936257819175, 'RAD': 0.0003447138058500056, 'TAX': 0.01782782460864731, 'PTRATIO': 0.02203712070723295, 'B': 0.02648464715497179, 'LSTAT': 0.2095034881867996}\n",
      "------ DecisionTreeRegressor : {'criterion': 'mae', 'max_depth': 3, 'max_features': None, 'max_leaf_nodes': None, 'min_impurity_decrease': 0.0, 'min_impurity_split': None, 'min_samples_leaf': 0.1, 'min_samples_split': 0.6, 'min_weight_fraction_leaf': 0.0, 'presort': False, 'random_state': None, 'splitter': 'best'}\n",
      "MSE:  43.260686274509816\n",
      "Feature importance:  {'CRIM': 0.0, 'ZN': 0.0, 'INDUS': 0.0, 'CHAS': 0.0, 'NOX': 0.0, 'RM': 0.43951577273128906, 'AGE': 0.0, 'DIS': 0.0, 'RAD': 0.0, 'TAX': 0.0, 'PTRATIO': 0.0, 'B': 0.0, 'LSTAT': 0.5604842272687109}\n",
      "====== .. _diabetes_dataset: shape is (442, 10)\n",
      "------ RandomForestRegressor : {'bootstrap': True, 'criterion': 'mse', 'max_depth': None, 'max_features': 'auto', 'max_leaf_nodes': None, 'min_impurity_decrease': 0.0, 'min_impurity_split': None, 'min_samples_leaf': 1, 'min_samples_split': 2, 'min_weight_fraction_leaf': 0.0, 'n_estimators': 20, 'n_jobs': None, 'oob_score': False, 'random_state': None, 'verbose': 0, 'warm_start': False}\n",
      "MSE:  3703.9628089887633\n",
      "Feature importance:  {'age': 0.06614599356382152, 'sex': 0.011454971816260439, 'bmi': 0.2609245271902972, 'bp': 0.09586825328051271, 's1': 0.040696526365697906, 's2': 0.06058558636197373, 's3': 0.04404882594158782, 's4': 0.02574106481403221, 's5': 0.34045154537876765, 's6': 0.05408270528704886}\n",
      "------ RandomForestRegressor : {'bootstrap': True, 'criterion': 'mae', 'max_depth': 3, 'max_features': 'auto', 'max_leaf_nodes': None, 'min_impurity_decrease': 0.0, 'min_impurity_split': None, 'min_samples_leaf': 0.1, 'min_samples_split': 0.6, 'min_weight_fraction_leaf': 0.0, 'n_estimators': 10, 'n_jobs': None, 'oob_score': False, 'random_state': None, 'verbose': 0, 'warm_start': False}\n",
      "MSE:  3327.569438202247\n",
      "Feature importance:  {'age': 0.0, 'sex': 0.0, 'bmi': 0.3, 'bp': 0.0, 's1': 0.0, 's2': 0.0, 's3': 0.0, 's4': 0.0, 's5': 0.7, 's6': 0.0}\n",
      "------ DecisionTreeRegressor : {'criterion': 'mse', 'max_depth': None, 'max_features': None, 'max_leaf_nodes': None, 'min_impurity_decrease': 0.0, 'min_impurity_split': None, 'min_samples_leaf': 1, 'min_samples_split': 2, 'min_weight_fraction_leaf': 0.0, 'presort': False, 'random_state': None, 'splitter': 'best'}\n",
      "MSE:  8235.707865168539\n",
      "Feature importance:  {'age': 0.05306559367424297, 'sex': 0.01127134269501471, 'bmi': 0.22424965508286931, 'bp': 0.08943880827614507, 's1': 0.0930220046508394, 's2': 0.033099881635609354, 's3': 0.032996297605513994, 's4': 0.014582092600987015, 's5': 0.3623143876239291, 's6': 0.08595993615484902}\n",
      "------ DecisionTreeRegressor : {'criterion': 'mae', 'max_depth': 3, 'max_features': None, 'max_leaf_nodes': None, 'min_impurity_decrease': 0.0, 'min_impurity_split': None, 'min_samples_leaf': 0.1, 'min_samples_split': 0.6, 'min_weight_fraction_leaf': 0.0, 'presort': False, 'random_state': None, 'splitter': 'best'}\n",
      "MSE:  4637.331460674157\n",
      "Feature importance:  {'age': 0.0, 'sex': 0.0, 'bmi': 0.0, 'bp': 0.0, 's1': 0.0, 's2': 0.0, 's3': 0.0, 's4': 0.0, 's5': 1.0, 's6': 0.0}\n"
     ]
    }
   ],
   "source": [
    "print(\"#\"*10,\"classification\",\"#\"*10)\n",
    "for data in [datasets.load_iris(),datasets.load_wine(),datasets.load_breast_cancer()]:\n",
    "    print(\"=\"*6,data['DESCR'].splitlines()[0],\"shape is\",data.data.shape)\n",
    "    for model in [RandomForestClassifier(n_estimators=20, criterion='gini',max_depth=None,min_samples_split=2,min_samples_leaf=1),RandomForestClassifier(n_estimators=10, criterion='entropy',max_depth=3,min_samples_split=0.6,min_samples_leaf=0.1),DecisionTreeClassifier(criterion='gini',max_depth=None,min_samples_split=2,min_samples_leaf=1),DecisionTreeClassifier(criterion='entropy',max_depth=3,min_samples_split=0.6,min_samples_leaf=0.1)]:\n",
    "        print(\"-\"*6,type(model).__name__,\":\",model.get_params())\n",
    "        x_train, x_test, y_train, y_test = train_test_split(data.data, data.target, test_size=0.2, random_state=4)\n",
    "        model.fit(x_train, y_train)\n",
    "        y_pred = model.predict(x_test)\n",
    "        print(\"Acuuracy: \", metrics.accuracy_score(y_test, y_pred))\n",
    "        print(\"Feature importance: \", dict(zip(data.feature_names,model.feature_importances_)))\n",
    "print(\"#\"*10,\"regression\",\"#\"*10)\n",
    "for data in [datasets.load_boston(),datasets.load_diabetes()]:\n",
    "    print(\"=\"*6,data['DESCR'].splitlines()[0],\"shape is\",data.data.shape)\n",
    "    for model in [RandomForestRegressor(n_estimators=20, criterion='mse',max_depth=None,min_samples_split=2,min_samples_leaf=1),RandomForestRegressor(n_estimators=10, criterion='mae',max_depth=3,min_samples_split=0.6,min_samples_leaf=0.1),DecisionTreeRegressor(criterion='mse',max_depth=None,min_samples_split=2,min_samples_leaf=1),DecisionTreeRegressor(criterion='mae',max_depth=3,min_samples_split=0.6,min_samples_leaf=0.1)]:\n",
    "        print(\"-\"*6,type(model).__name__,\":\",model.get_params())\n",
    "        x_train, x_test, y_train, y_test = train_test_split(data.data, data.target, test_size=0.2, random_state=4)\n",
    "        model.fit(x_train, y_train)\n",
    "        y_pred = model.predict(x_test)\n",
    "        print(\"MSE: \", metrics.mean_squared_error(y_test, y_pred))\n",
    "        print(\"Feature importance: \", dict(zip(data.feature_names,model.feature_importances_)))"
   ]
  }
 ],
 "metadata": {
  "kernelspec": {
   "display_name": "Python 3",
   "language": "python",
   "name": "python3"
  },
  "language_info": {
   "codemirror_mode": {
    "name": "ipython",
    "version": 3
   },
   "file_extension": ".py",
   "mimetype": "text/x-python",
   "name": "python",
   "nbconvert_exporter": "python",
   "pygments_lexer": "ipython3",
   "version": "3.7.3"
  }
 },
 "nbformat": 4,
 "nbformat_minor": 2
}
