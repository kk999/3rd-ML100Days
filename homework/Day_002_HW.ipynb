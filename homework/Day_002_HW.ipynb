{
 "cells": [
  {
   "cell_type": "markdown",
   "metadata": {},
   "source": [
    "## [作業目標]\n",
    "了解機器學習適合應用的領域與範疇。"
   ]
  },
  {
   "cell_type": "markdown",
   "metadata": {},
   "source": [
    "## [作業重點]\n",
    "透過瞭解機器學習的運作方式，找出非常適用機器學習應用的領域及其原因"
   ]
  },
  {
   "cell_type": "markdown",
   "metadata": {},
   "source": [
    "## 作業\n",
    "請找出一個你認為機器學習可以發光發熱的領域並闡述原因? "
   ]
  },
  {
   "cell_type": "code",
   "execution_count": null,
   "metadata": {},
   "outputs": [],
   "source": [
    "一、人類幾乎無法使用邏輯進行抽象概念上的陳述\n",
    "二、人類很不善長利用雜訊來分析資料\n",
    "三、人類分析資料的速度很慢\n",
    "關於第一點目前使用跟趨勢有關的數學模型(比如線性迴歸)有了一定的進展，\n",
    "而後兩點恰好是機器學習若且唯若的強項。\n",
    "P.S. 若且唯若：因為沒辨法讓機器有意識地去排除雜訊進行分析，也不會故意讓機器邏輯變慢來進行分析\n",
    "\n",
    "所以，氣侯、太空、DNA、醫藥、語義，甚至於更未來的發展，語氣、局勢、情緒、氛圍…等，\n",
    "這類不是可以用簡單的邏輯現象來表達的範疇，或許都可以達成。"
   ]
  }
 ],
 "metadata": {
  "kernelspec": {
   "display_name": "Python 3",
   "language": "python",
   "name": "python3"
  },
  "language_info": {
   "codemirror_mode": {
    "name": "ipython",
    "version": 3
   },
   "file_extension": ".py",
   "mimetype": "text/x-python",
   "name": "python",
   "nbconvert_exporter": "python",
   "pygments_lexer": "ipython3",
   "version": "3.7.3"
  }
 },
 "nbformat": 4,
 "nbformat_minor": 2
}
