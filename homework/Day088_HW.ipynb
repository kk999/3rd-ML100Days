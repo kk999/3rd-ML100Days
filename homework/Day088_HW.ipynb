{
 "cells": [
  {
   "cell_type": "markdown",
   "metadata": {},
   "source": [
    "## Work\n",
    "1. 請嘗試寫一個 callback 用來記錄各類別在訓練過程中，對驗證集的 True Positive 與 True Negative"
   ]
  },
  {
   "cell_type": "code",
   "execution_count": 1,
   "metadata": {},
   "outputs": [
    {
     "name": "stderr",
     "output_type": "stream",
     "text": [
      "Using TensorFlow backend.\n"
     ]
    }
   ],
   "source": [
    "import os\n",
    "import keras\n",
    "\n",
    "# Disable GPU\n",
    "os.environ[\"CUDA_VISIBLE_DEVICES\"] = \"\""
   ]
  },
  {
   "cell_type": "code",
   "execution_count": 2,
   "metadata": {},
   "outputs": [],
   "source": [
    "train, test = keras.datasets.cifar10.load_data()"
   ]
  },
  {
   "cell_type": "code",
   "execution_count": 3,
   "metadata": {},
   "outputs": [],
   "source": [
    "## 資料前處理\n",
    "def preproc_x(x, flatten=True):\n",
    "    x = x / 255.\n",
    "    if flatten:\n",
    "        x = x.reshape((len(x), -1))\n",
    "    return x\n",
    "\n",
    "def preproc_y(y, num_classes=10):\n",
    "    if y.shape[-1] == 1:\n",
    "        y = keras.utils.to_categorical(y, num_classes)\n",
    "    return y    "
   ]
  },
  {
   "cell_type": "code",
   "execution_count": 4,
   "metadata": {},
   "outputs": [],
   "source": [
    "x_train, y_train = train\n",
    "x_test, y_test = test\n",
    "\n",
    "# Preproc the inputs\n",
    "x_train = preproc_x(x_train)\n",
    "x_test = preproc_x(x_test)\n",
    "\n",
    "# Preprc the outputs\n",
    "y_train = preproc_y(y_train)\n",
    "y_test = preproc_y(y_test)"
   ]
  },
  {
   "cell_type": "code",
   "execution_count": 5,
   "metadata": {},
   "outputs": [],
   "source": [
    "from keras.layers import BatchNormalization\n",
    "def build_mlp(input_shape, output_units=10, num_neurons=[256, 256, 256]):\n",
    "    input_layer = keras.layers.Input(input_shape)\n",
    "    \n",
    "    for i, n_units in enumerate(num_neurons):\n",
    "        if i == 0:\n",
    "            x = keras.layers.Dense(units=n_units, \n",
    "                                   activation=\"relu\", \n",
    "                                   name=\"hidden_layer\"+str(i+1))(input_layer)\n",
    "            x = BatchNormalization()(x)\n",
    "        else:\n",
    "            x = keras.layers.Dense(units=n_units, \n",
    "                                   activation=\"relu\", \n",
    "                                   name=\"hidden_layer\"+str(i+1))(x)\n",
    "            x = BatchNormalization()(x)\n",
    "    \n",
    "    out = keras.layers.Dense(units=output_units, activation=\"softmax\", name=\"output\")(x)\n",
    "    \n",
    "    model = keras.models.Model(inputs=[input_layer], outputs=[out])\n",
    "    return model\n"
   ]
  },
  {
   "cell_type": "code",
   "execution_count": 6,
   "metadata": {},
   "outputs": [],
   "source": [
    "## 超參數設定\n",
    "LEARNING_RATE = 1e-3\n",
    "EPOCHS = 25\n",
    "BATCH_SIZE = 1024\n",
    "MOMENTUM = 0.95"
   ]
  },
  {
   "cell_type": "code",
   "execution_count": 7,
   "metadata": {},
   "outputs": [],
   "source": [
    "# 載入 Callbacks\n",
    "from keras.callbacks import Callback\n",
    "import numpy as np\n",
    "\n",
    "# Record_fp_tp\n",
    "class Record_tp_tn(Callback):\n",
    "    def on_train_begin(self, epoch, logs = {}):\n",
    "        logs = logs or {}\n",
    "        record_items = [\"val_true_positive\", \"val_true_negative\", \"val_false_positive\", \"val_false_negative\"]\n",
    "        for i in record_items:\n",
    "            if i not in self.params['metrics']:\n",
    "                self.params['metrics'].append(i)\n",
    "    def on_epoch_end(self, epoch, logs = {}, thres=0.5):\n",
    "        logs = logs or {}\n",
    "        y_true = self.validation_data[1].argmax(axis = 1)\n",
    "        y_pred = self.model.predict(self.validation_data[0])\n",
    "        y_pred = (y_pred[:, 1] >= thres) * 1\n",
    "        logs[\"val_true_positive\"] = np.sum(np.logical_and(y_pred == 1, y_true == 1))\n",
    "        logs[\"val_true_negative\"] = np.sum(np.logical_and(y_pred == 0, y_true == 0))\n",
    "rec_tptn = Record_tp_tn()"
   ]
  },
  {
   "cell_type": "code",
   "execution_count": 8,
   "metadata": {
    "scrolled": true
   },
   "outputs": [
    {
     "name": "stdout",
     "output_type": "stream",
     "text": [
      "Model: \"model_1\"\n",
      "_________________________________________________________________\n",
      "Layer (type)                 Output Shape              Param #   \n",
      "=================================================================\n",
      "input_1 (InputLayer)         (None, 3072)              0         \n",
      "_________________________________________________________________\n",
      "hidden_layer1 (Dense)        (None, 256)               786688    \n",
      "_________________________________________________________________\n",
      "batch_normalization_1 (Batch (None, 256)               1024      \n",
      "_________________________________________________________________\n",
      "hidden_layer2 (Dense)        (None, 256)               65792     \n",
      "_________________________________________________________________\n",
      "batch_normalization_2 (Batch (None, 256)               1024      \n",
      "_________________________________________________________________\n",
      "hidden_layer3 (Dense)        (None, 256)               65792     \n",
      "_________________________________________________________________\n",
      "batch_normalization_3 (Batch (None, 256)               1024      \n",
      "_________________________________________________________________\n",
      "output (Dense)               (None, 10)                2570      \n",
      "=================================================================\n",
      "Total params: 923,914\n",
      "Trainable params: 922,378\n",
      "Non-trainable params: 1,536\n",
      "_________________________________________________________________\n",
      "Train on 50000 samples, validate on 10000 samples\n",
      "Epoch 1/25\n",
      "50000/50000 [==============================] - 5s 96us/step - loss: 2.2186 - accuracy: 0.2670 - val_loss: 2.1565 - val_accuracy: 0.1781\n",
      "Epoch 2/25\n",
      "50000/50000 [==============================] - 4s 84us/step - loss: 1.7709 - accuracy: 0.3849 - val_loss: 2.0105 - val_accuracy: 0.2595\n",
      "Epoch 3/25\n",
      "50000/50000 [==============================] - 4s 84us/step - loss: 1.6429 - accuracy: 0.4251 - val_loss: 1.8403 - val_accuracy: 0.3660\n",
      "Epoch 4/25\n",
      "50000/50000 [==============================] - 4s 84us/step - loss: 1.5670 - accuracy: 0.4527 - val_loss: 1.7248 - val_accuracy: 0.4099\n",
      "Epoch 5/25\n",
      "50000/50000 [==============================] - 5s 90us/step - loss: 1.5137 - accuracy: 0.4705 - val_loss: 1.6447 - val_accuracy: 0.4304\n",
      "Epoch 6/25\n",
      "50000/50000 [==============================] - 4s 85us/step - loss: 1.4683 - accuracy: 0.4864 - val_loss: 1.5838 - val_accuracy: 0.4504\n",
      "Epoch 7/25\n",
      "50000/50000 [==============================] - 4s 82us/step - loss: 1.4321 - accuracy: 0.4995 - val_loss: 1.5516 - val_accuracy: 0.4516\n",
      "Epoch 8/25\n",
      "50000/50000 [==============================] - 4s 82us/step - loss: 1.3982 - accuracy: 0.5120 - val_loss: 1.5242 - val_accuracy: 0.4604\n",
      "Epoch 9/25\n",
      "50000/50000 [==============================] - 4s 82us/step - loss: 1.3681 - accuracy: 0.5227 - val_loss: 1.5085 - val_accuracy: 0.4691\n",
      "Epoch 10/25\n",
      "50000/50000 [==============================] - 4s 82us/step - loss: 1.3410 - accuracy: 0.5338 - val_loss: 1.4898 - val_accuracy: 0.4753\n",
      "Epoch 11/25\n",
      "50000/50000 [==============================] - 4s 83us/step - loss: 1.3178 - accuracy: 0.5422 - val_loss: 1.4775 - val_accuracy: 0.4790\n",
      "Epoch 12/25\n",
      "50000/50000 [==============================] - 4s 82us/step - loss: 1.2914 - accuracy: 0.5531 - val_loss: 1.4765 - val_accuracy: 0.4802\n",
      "Epoch 13/25\n",
      "50000/50000 [==============================] - 4s 83us/step - loss: 1.2702 - accuracy: 0.5605 - val_loss: 1.4659 - val_accuracy: 0.4831\n",
      "Epoch 14/25\n",
      "50000/50000 [==============================] - 4s 82us/step - loss: 1.2511 - accuracy: 0.5679 - val_loss: 1.4638 - val_accuracy: 0.4832\n",
      "Epoch 15/25\n",
      "50000/50000 [==============================] - 4s 82us/step - loss: 1.2279 - accuracy: 0.5739 - val_loss: 1.4535 - val_accuracy: 0.4910\n",
      "Epoch 16/25\n",
      "50000/50000 [==============================] - 4s 82us/step - loss: 1.2069 - accuracy: 0.5836 - val_loss: 1.4566 - val_accuracy: 0.4854\n",
      "Epoch 17/25\n",
      "50000/50000 [==============================] - 4s 82us/step - loss: 1.1885 - accuracy: 0.5903 - val_loss: 1.4490 - val_accuracy: 0.4910\n",
      "Epoch 18/25\n",
      "50000/50000 [==============================] - 4s 82us/step - loss: 1.1693 - accuracy: 0.5956 - val_loss: 1.4447 - val_accuracy: 0.4927\n",
      "Epoch 19/25\n",
      "50000/50000 [==============================] - 4s 82us/step - loss: 1.1507 - accuracy: 0.6048 - val_loss: 1.4444 - val_accuracy: 0.4932\n",
      "Epoch 20/25\n",
      "50000/50000 [==============================] - 4s 82us/step - loss: 1.1332 - accuracy: 0.6114 - val_loss: 1.4449 - val_accuracy: 0.4909\n",
      "Epoch 21/25\n",
      "50000/50000 [==============================] - 4s 82us/step - loss: 1.1140 - accuracy: 0.6189 - val_loss: 1.4335 - val_accuracy: 0.4945\n",
      "Epoch 22/25\n",
      "50000/50000 [==============================] - 4s 82us/step - loss: 1.0995 - accuracy: 0.6233 - val_loss: 1.4365 - val_accuracy: 0.4950\n",
      "Epoch 23/25\n",
      "50000/50000 [==============================] - 4s 82us/step - loss: 1.0809 - accuracy: 0.6305 - val_loss: 1.4339 - val_accuracy: 0.4970\n",
      "Epoch 24/25\n",
      "50000/50000 [==============================] - 4s 82us/step - loss: 1.0643 - accuracy: 0.6365 - val_loss: 1.4467 - val_accuracy: 0.4920\n",
      "Epoch 25/25\n",
      "50000/50000 [==============================] - 4s 82us/step - loss: 1.0470 - accuracy: 0.6430 - val_loss: 1.4430 - val_accuracy: 0.4971\n"
     ]
    }
   ],
   "source": [
    "model = build_mlp(input_shape=x_train.shape[1:])\n",
    "model.summary()\n",
    "optimizer = keras.optimizers.SGD(lr=LEARNING_RATE, nesterov=True, momentum=MOMENTUM)\n",
    "model.compile(loss=\"categorical_crossentropy\", metrics=[\"accuracy\"], optimizer=optimizer)\n",
    "\n",
    "\"\"\"Code Here\n",
    "將 callbacks 放入模型訓練流程中\n",
    "\"\"\"\n",
    "model.fit(\n",
    "    x_train,\n",
    "    y_train,\n",
    "    epochs=EPOCHS,\n",
    "    batch_size=BATCH_SIZE,\n",
    "    validation_data=(x_test, y_test),\n",
    "    shuffle=True,\n",
    "    callbacks=[rec_tptn]\n",
    ")\n",
    "\n",
    "# Collect results\n",
    "train_loss = model.history.history[\"loss\"]\n",
    "valid_loss = model.history.history[\"val_loss\"]\n",
    "train_acc = model.history.history[\"accuracy\"]\n",
    "valid_acc = model.history.history[\"val_accuracy\"]\n",
    "\n",
    "\"\"\"Code Here\n",
    "將 tp/tn 從訓練完的模型中取出\n",
    "\"\"\"\n",
    "valid_tp = model.history.history[\"val_true_positive\"]\n",
    "valid_tn = model.history.history[\"val_true_negative\"]"
   ]
  },
  {
   "cell_type": "code",
   "execution_count": 9,
   "metadata": {},
   "outputs": [
    {
     "data": {
      "image/png": "[encoded data removed]",
      "text/plain": [
       "<Figure size 432x288 with 1 Axes>"
      ]
     },
     "metadata": {
      "needs_background": "light"
     },
     "output_type": "display_data"
    },
    {
     "data": {
      "image/png": "[encoded data removed]",
      "text/plain": [
       "<Figure size 432x288 with 1 Axes>"
      ]
     },
     "metadata": {
      "needs_background": "light"
     },
     "output_type": "display_data"
    },
    {
     "data": {
      "image/png": "[encoded data removed]",
      "text/plain": [
       "<Figure size 432x288 with 1 Axes>"
      ]
     },
     "metadata": {
      "needs_background": "light"
     },
     "output_type": "display_data"
    }
   ],
   "source": [
    "import matplotlib.pyplot as plt\n",
    "%matplotlib inline\n",
    "\n",
    "plt.plot(range(len(train_loss)), train_loss, label=\"train loss\")\n",
    "plt.plot(range(len(valid_loss)), valid_loss, label=\"valid loss\")\n",
    "plt.legend()\n",
    "plt.title(\"Loss\")\n",
    "plt.show()\n",
    "\n",
    "plt.plot(range(len(train_acc)), train_acc, label=\"train accuracy\")\n",
    "plt.plot(range(len(valid_acc)), valid_acc, label=\"valid accuracy\")\n",
    "plt.legend()\n",
    "plt.title(\"Accuracy\")\n",
    "plt.show()\n",
    "\n",
    "plt.plot(range(len(valid_tp)), valid_tp, label=\"valid tp\", color=\"navy\")\n",
    "plt.plot(range(len(valid_tn)), valid_tn, label=\"valid tn\", color=\"red\")\n",
    "plt.legend()\n",
    "plt.title(\"True positives and True Negatives\")\n",
    "plt.show()\n"
   ]
  }
 ],
 "metadata": {
  "kernelspec": {
   "display_name": "Python 3",
   "language": "python",
   "name": "python3"
  },
  "language_info": {
   "codemirror_mode": {
    "name": "ipython",
    "version": 3
   },
   "file_extension": ".py",
   "mimetype": "text/x-python",
   "name": "python",
   "nbconvert_exporter": "python",
   "pygments_lexer": "ipython3",
   "version": "3.7.3"
  }
 },
 "nbformat": 4,
 "nbformat_minor": 2
}
