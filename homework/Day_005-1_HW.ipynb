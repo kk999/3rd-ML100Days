{
 "cells": [
  {
   "cell_type": "markdown",
   "metadata": {},
   "source": [
    "# [作業目標]\n",
    "- 利用範例的創建方式, 創建一組資料, 並練習如何取出最大值"
   ]
  },
  {
   "cell_type": "markdown",
   "metadata": {},
   "source": [
    "# [作業重點]\n",
    "- 練習創立 DataFrame (In[2])\n",
    "- 如何取出口數最多的國家 (In[3], Out[3])"
   ]
  },
  {
   "cell_type": "markdown",
   "metadata": {},
   "source": [
    "## 練習時間\n",
    "在小量的資料上，我們用眼睛就可以看得出來程式碼是否有跑出我們理想中的結果\n",
    "\n",
    "請嘗試想像一個你需要的資料結構 (裡面的值可以是隨機的)，然後用上述的方法把它變成 pandas DataFrame\n",
    "\n",
    "#### Ex: 想像一個 dataframe 有兩個欄位，一個是國家，一個是人口，求人口數最多的國家\n",
    "\n",
    "### Hints: [隨機產生數值](https://blog.csdn.net/christianashannon/article/details/78867204)"
   ]
  },
  {
   "cell_type": "code",
   "execution_count": 3,
   "metadata": {},
   "outputs": [],
   "source": [
    "import pandas as pd\n",
    "import numpy as np"
   ]
  },
  {
   "cell_type": "code",
   "execution_count": 8,
   "metadata": {},
   "outputs": [
    {
     "name": "stdout",
     "output_type": "stream",
     "text": [
      "                           國家          人口\n",
      "0                       China  1433783686\n",
      "1                       India  1366417754\n",
      "2               United States   329064917\n",
      "3                   Indonesia   270625568\n",
      "4                    Pakistan   216565318\n",
      "5                      Brazil   211049527\n",
      "6                     Nigeria   200963599\n",
      "7                  Bangladesh   163046161\n",
      "8                      Russia   145872256\n",
      "9                      Mexico   127575529\n",
      "10                      Japan   126860301\n",
      "11                   Ethiopia   112078730\n",
      "12                Philippines   108116615\n",
      "13                      Egypt   100388073\n",
      "14                    Vietnam    96462106\n",
      "15                   DR Congo    86790567\n",
      "16                    Germany    83517045\n",
      "17                     Turkey    83429615\n",
      "18                       Iran    82913906\n",
      "19                   Thailand    69625582\n",
      "20             United Kingdom    67530172\n",
      "21                     France    65129728\n",
      "22                      Italy    60550075\n",
      "23               South Africa    58558270\n",
      "24                   Tanzania    58005463\n",
      "25                    Myanmar    54045420\n",
      "26                      Kenya    52573973\n",
      "27                South Korea    51225308\n",
      "28                   Colombia    50339443\n",
      "29                      Spain    46736776\n",
      "..                        ...         ...\n",
      "205                   Bermuda       62506\n",
      "206          Marshall Islands       58791\n",
      "207  Northern Mariana Islands       57216\n",
      "208                 Greenland       56672\n",
      "209            American Samoa       55312\n",
      "210       Saint Kitts & Nevis       52823\n",
      "211            Faeroe Islands       48678\n",
      "212              Sint Maarten       42388\n",
      "213                    Monaco       38964\n",
      "214          Turks and Caicos       38191\n",
      "215             Liechtenstein       38019\n",
      "216              Saint Martin       38002\n",
      "217                San Marino       33860\n",
      "218                 Gibraltar       33701\n",
      "219    British Virgin Islands       30030\n",
      "220     Caribbean Netherlands       25979\n",
      "221                     Palau       18008\n",
      "222              Cook Islands       17548\n",
      "223                  Anguilla       14869\n",
      "224                    Tuvalu       11646\n",
      "225           Wallis & Futuna       11432\n",
      "226                     Nauru       10756\n",
      "227          Saint Barthelemy        9847\n",
      "228              Saint Helena        6059\n",
      "229   Saint Pierre & Miquelon        5822\n",
      "230                Montserrat        4989\n",
      "231          Falkland Islands        3377\n",
      "232                      Niue        1615\n",
      "233                   Tokelau        1340\n",
      "234                  Holy See         799\n",
      "\n",
      "[235 rows x 2 columns]\n"
     ]
    }
   ],
   "source": [
    "import requests\n",
    "from lxml import etree\n",
    "html = etree.HTML(requests.get(\"https://www.worldometers.info/world-population/population-by-country/\").text)\n",
    "data = {'國家': html.xpath(\"//table[@id='example2']//tr/td[2]/a/text()\"),\n",
    "        '人口': list(map(int, [element.replace(',', '') for element in html.xpath(\"//table[@id='example2']//tr/td[3]/text()\")]))}\n",
    "data = pd.DataFrame(data)\n",
    "print(data)"
   ]
  },
  {
   "cell_type": "code",
   "execution_count": 24,
   "metadata": {},
   "outputs": [
    {
     "name": "stdout",
     "output_type": "stream",
     "text": [
      "最多人口的國家是 China 有 1433783686 人\n"
     ]
    }
   ],
   "source": [
    "mostPopulate = data[data['人口']==data['人口'].max()]\n",
    "for index, row in mostPopulate.iterrows():\n",
    "    print('最多人口的國家是',row['國家'],'有',row['人口'],'人')"
   ]
  }
 ],
 "metadata": {
  "kernelspec": {
   "display_name": "Python 3",
   "language": "python",
   "name": "python3"
  },
  "language_info": {
   "codemirror_mode": {
    "name": "ipython",
    "version": 3
   },
   "file_extension": ".py",
   "mimetype": "text/x-python",
   "name": "python",
   "nbconvert_exporter": "python",
   "pygments_lexer": "ipython3",
   "version": "3.7.3"
  }
 },
 "nbformat": 4,
 "nbformat_minor": 2
}
