{
 "cells": [
  {
   "cell_type": "markdown",
   "metadata": {},
   "source": [
    "# 作業\n",
    "* 試著想想看, 非監督學習是否有可能使用評價函數 (Metric) 來鑑別好壞呢?  \n",
    "(Hint : 可以分為 \"有目標值\" 與 \"無目標值\" 兩個方向思考)"
   ]
  },
  {
   "cell_type": "code",
   "execution_count": null,
   "metadata": {
    "collapsed": true
   },
   "outputs": [],
   "source": [
    "最近的一篇新聞有提到一個名詞，自監督學習，主要是指稱非監督學習其實也是需要監督的，只是監督的行為不是由人類產生的，所以把非監督學習稱為自監督學習。\n",
    "基於這篇新聞，我覺得還是需要使用評價函數的。\n",
    "\n",
    "就算不基於這篇新聞，機器學習總是需要有個目標的，像是下棋的目標自然是贏棋，人臉辨識的目標就是識別出人的臉，甚至更進一步的目標，這些臉是誰的。\n",
    "只要有目標，就需要一個評價函數，用來告訴機器說，你預測出來的結果，離正確的答案有多近。\n",
    "\n",
    "這個作業中的題目中的Hint，有提到「無目標值」，如果是這樣的話，那可能應該也是有目標的，目標就是找到感興趣的目標，所以也是需要一個評價函數吧？"
   ]
  }
 ],
 "metadata": {
  "kernelspec": {
   "display_name": "Python 3",
   "language": "python",
   "name": "python3"
  },
  "language_info": {
   "codemirror_mode": {
    "name": "ipython",
    "version": 3
   },
   "file_extension": ".py",
   "mimetype": "text/x-python",
   "name": "python",
   "nbconvert_exporter": "python",
   "pygments_lexer": "ipython3",
   "version": "3.7.3"
  }
 },
 "nbformat": 4,
 "nbformat_minor": 1
}
