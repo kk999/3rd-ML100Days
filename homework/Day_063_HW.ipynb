{
 "cells": [
  {
   "cell_type": "markdown",
   "metadata": {},
   "source": [
    "# 作業\n",
    "* 在精簡深度學習的方式上 : 卷積類神經 (CNN) 採用像素遠近，而遞歸類神經 (RNN) 採用著則是時間遠近\n",
    "* 那麼，既然有著類似的設計精神，兩者是否有可能互換應用呢?"
   ]
  },
  {
   "cell_type": "markdown",
   "metadata": {
    "collapsed": true
   },
   "source": [
    "截錄自\n",
    "http://blog.itpub.net/69946223/viewspace-2662201/\n",
    "\n",
    "CNN 在处理图像时，将图像看作一个二维的“块”（高度和宽度）；迁移到文本处理上，就可以将文本看作一个一维对象（高度 1 个单位，长度 n 个单位）。\n",
    "\n",
    "但 RNN 不能直接预定义对象长度，而 CNN 需要长度信息。因此，要使用 CNN，我们必须不断增加层数，直到整个感受野都被覆盖为止。这种做法会让 CNN 非常深，但是得益于大规模并行处理的优势，无论网络多深，都可以进行并行处理，节省大量时间。\n",
    "\n",
    "所以，CNN是可以用來處理RNN擅長的領域的。\n",
    "\n",
    "反過來RNN是否可以處理CNN擅長的領域呢？或許可以，但困難度應該會很高吧？畢竟RNN自身有著一些不討喜的缺點。但也或許是還沒找到合適的方法。"
   ]
  }
 ],
 "metadata": {
  "kernelspec": {
   "display_name": "Python 3",
   "language": "python",
   "name": "python3"
  },
  "language_info": {
   "codemirror_mode": {
    "name": "ipython",
    "version": 3
   },
   "file_extension": ".py",
   "mimetype": "text/x-python",
   "name": "python",
   "nbconvert_exporter": "python",
   "pygments_lexer": "ipython3",
   "version": "3.7.3"
  }
 },
 "nbformat": 4,
 "nbformat_minor": 2
}
