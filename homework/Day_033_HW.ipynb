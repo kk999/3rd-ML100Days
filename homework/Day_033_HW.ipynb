{
 "cells": [
  {
   "cell_type": "markdown",
   "metadata": {},
   "source": [
    "## 練習時間"
   ]
  },
  {
   "cell_type": "markdown",
   "metadata": {},
   "source": [
    "請觀看李宏毅教授以神奇寶貝進化 CP 值預測的範例，解說何謂機器學習與過擬合。並回答以下問題"
   ]
  },
  {
   "cell_type": "markdown",
   "metadata": {},
   "source": [
    "[youtube](https://www.youtube.com/watch?v=fegAeph9UaA)"
   ]
  },
  {
   "cell_type": "markdown",
   "metadata": {},
   "source": [
    "### 1. 模型的泛化能力 (generalization) 是指什麼？ \n",
    "### 2. 分類問題與回歸問題分別可用的目標函數有哪些？"
   ]
  },
  {
   "cell_type": "code",
   "execution_count": null,
   "metadata": {},
   "outputs": [],
   "source": [
    "機器學習：\n",
    "當想要在特定領域中從已知去推論未知時，需要知道一個function，機器學習就是在模型中找出這個function。\n",
    "即講義中：\n",
    "白話文：讓機器從資料中找尋規律與趨勢而不需要給定特殊規則。\n",
    "數學：給定目標函數與訓練資料，學習出能讓目標函數最佳的模型參數。\n",
    "\n",
    "過擬合：\n",
    "機器學習過度重視訓練集中的數據，\n",
    "所以得出的function有很重的偏見，側重於訓練集中的數據，\n",
    "而令具有相同抽樣方式的非訓練集的數據的推論結果是不好的。\n",
    "\n",
    "一、泛化能力：\n",
    "模型在訓成之後，一般只能保證在訓練集上有一定程度上的收效，\n",
    "但我們通常希望的是，這個訓成的模型也要能夠推廣適用於其它使用相同抽樣方式的非訓練集的數據上，這個就是泛化，\n",
    "而泛化能力，指的是泛化的時候，能夠有怎樣的表現。\n",
    "泛化能力強，代表這個訓成的模型能夠很好的推論其它使用相同抽樣方式的非訓練集的數據；\n",
    "泛化能力弱，代表這個訓成的模型推論其它使用相同抽樣方式的非訓練集的數據的結果是糟糕的。\n",
    "\n",
    "二、\n",
    "分類問題：Cross-Entropy\n",
    "回歸問題：Mean Absolute Error、Mean Square Error、Root Mean Square Error"
   ]
  }
 ],
 "metadata": {
  "kernelspec": {
   "display_name": "Python 3",
   "language": "python",
   "name": "python3"
  },
  "language_info": {
   "codemirror_mode": {
    "name": "ipython",
    "version": 3
   },
   "file_extension": ".py",
   "mimetype": "text/x-python",
   "name": "python",
   "nbconvert_exporter": "python",
   "pygments_lexer": "ipython3",
   "version": "3.7.3"
  }
 },
 "nbformat": 4,
 "nbformat_minor": 2
}
