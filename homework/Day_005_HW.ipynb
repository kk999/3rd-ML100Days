{
 "cells": [
  {
   "cell_type": "markdown",
   "metadata": {},
   "source": [
    "# [作業目標]\n",
    "- 利用範例的創建方式, 創建一組資料, 並練習如何取出最大值"
   ]
  },
  {
   "cell_type": "markdown",
   "metadata": {},
   "source": [
    "# [作業重點]\n",
    "- 練習創立 DataFrame (In[2])\n",
    "- 如何取出口數最多的國家 (In[3], Out[3])"
   ]
  },
  {
   "cell_type": "markdown",
   "metadata": {},
   "source": [
    "## 練習時間\n",
    "在小量的資料上，我們用眼睛就可以看得出來程式碼是否有跑出我們理想中的結果\n",
    "\n",
    "請嘗試想像一個你需要的資料結構 (裡面的值可以是隨機的)，然後用上述的方法把它變成 pandas DataFrame\n",
    "\n",
    "#### Ex: 想像一個 dataframe 有兩個欄位，一個是國家，一個是人口，求人口數最多的國家\n",
    "\n",
    "### Hints: [隨機產生數值](https://blog.csdn.net/christianashannon/article/details/78867204)"
   ]
  },
  {
   "cell_type": "code",
   "execution_count": 3,
   "metadata": {},
   "outputs": [],
   "source": [
    "import pandas as pd\n",
    "import numpy as np"
   ]
  },
  {
   "cell_type": "code",
   "execution_count": 8,
   "metadata": {},
   "outputs": [
    {
     "name": "stdout",
     "output_type": "stream",
     "text": [
      "                           國家          人口\n",
      "0                       China  1433783686\n",
      "1                       India  1366417754\n",
      "2               United States   329064917\n",
      "3                   Indonesia   270625568\n",
      "4                    Pakistan   216565318\n",
      "5                      Brazil   211049527\n",
      "6                     Nigeria   200963599\n",
      "7                  Bangladesh   163046161\n",
      "8                      Russia   145872256\n",
      "9                      Mexico   127575529\n",
      "10                      Japan   126860301\n",
      "11                   Ethiopia   112078730\n",
      "12                Philippines   108116615\n",
      "13                      Egypt   100388073\n",
      "14                    Vietnam    96462106\n",
      "15                   DR Congo    86790567\n",
      "16                    Germany    83517045\n",
      "17                     Turkey    83429615\n",
      "18                       Iran    82913906\n",
      "19                   Thailand    69625582\n",
      "20             United Kingdom    67530172\n",
      "21                     France    65129728\n",
      "22                      Italy    60550075\n",
      "23               South Africa    58558270\n",
      "24                   Tanzania    58005463\n",
      "25                    Myanmar    54045420\n",
      "26                      Kenya    52573973\n",
      "27                South Korea    51225308\n",
      "28                   Colombia    50339443\n",
      "29                      Spain    46736776\n",
      "..                        ...         ...\n",
      "205                   Bermuda       62506\n",
      "206          Marshall Islands       58791\n",
      "207  Northern Mariana Islands       57216\n",
      "208                 Greenland       56672\n",
      "209            American Samoa       55312\n",
      "210       Saint Kitts & Nevis       52823\n",
      "211            Faeroe Islands       48678\n",
      "212              Sint Maarten       42388\n",
      "213                    Monaco       38964\n",
      "214          Turks and Caicos       38191\n",
      "215             Liechtenstein       38019\n",
      "216              Saint Martin       38002\n",
      "217                San Marino       33860\n",
      "218                 Gibraltar       33701\n",
      "219    British Virgin Islands       30030\n",
      "220     Caribbean Netherlands       25979\n",
      "221                     Palau       18008\n",
      "222              Cook Islands       17548\n",
      "223                  Anguilla       14869\n",
      "224                    Tuvalu       11646\n",
      "225           Wallis & Futuna       11432\n",
      "226                     Nauru       10756\n",
      "227          Saint Barthelemy        9847\n",
      "228              Saint Helena        6059\n",
      "229   Saint Pierre & Miquelon        5822\n",
      "230                Montserrat        4989\n",
      "231          Falkland Islands        3377\n",
      "232                      Niue        1615\n",
      "233                   Tokelau        1340\n",
      "234                  Holy See         799\n",
      "\n",
      "[235 rows x 2 columns]\n"
     ]
    }
   ],
   "source": [
    "import requests\n",
    "from lxml import etree\n",
    "html = etree.HTML(requests.get(\"https://www.worldometers.info/world-population/population-by-country/\").text)\n",
    "data = {'國家': html.xpath(\"//table[@id='example2']//tr/td[2]/a/text()\"),\n",
    "        '人口': list(map(int, [element.replace(',', '') for element in html.xpath(\"//table[@id='example2']//tr/td[3]/text()\")]))}\n",
    "data = pd.DataFrame(data)\n",
    "print(data)"
   ]
  },
  {
   "cell_type": "code",
   "execution_count": 24,
   "metadata": {},
   "outputs": [
    {
     "name": "stdout",
     "output_type": "stream",
     "text": [
      "最多人口的國家是 China 有 1433783686 人\n"
     ]
    }
   ],
   "source": [
    "mostPopulate = data[data['人口']==data['人口'].max()]\n",
    "for index, row in mostPopulate.iterrows():\n",
    "    print('最多人口的國家是',row['國家'],'有',row['人口'],'人')"
   ]
  },
  {
   "cell_type": "code",
   "execution_count": null,
   "metadata": {},
   "outputs": [],
   "source": [
    "## 讀取 txt 檔\n",
    "* 請讀取 [text file](https://raw.githubusercontent.com/vashineyu/slides_and_others/master/tutorial/examples/imagenet_urls_examples.txt)\n",
    "* 懶人複製連結: https://raw.githubusercontent.com/vashineyu/slides_and_others/master/tutorial/examples/imagenet_urls_examples.txt\n",
    "\n",
    "### Hints: 使用 [Request](https://blog.gtwang.org/programming/python-requests-module-tutorial/) 抓取資料\n",
    "### Hints: [字串分割](http://www.runoob.com/python/att-string-split.html)\n",
    "### Hints: 例外處理: [Try-Except](https://pydoing.blogspot.com/2011/01/python-try.html)"
   ]
  },
  {
   "cell_type": "code",
   "execution_count": null,
   "metadata": {},
   "outputs": [],
   "source": [
    "# [作業目標]\n",
    "- 試著讀取網頁上的圖片連結清單, 再以清單中網址讀取圖片"
   ]
  },
  {
   "cell_type": "code",
   "execution_count": null,
   "metadata": {},
   "outputs": [],
   "source": [
    "# [作業重點]\n",
    "- 從網頁上讀取連結清單 (In[1], In[2])\n",
    "- 從清單網址讀取圖片 (In[6]~In[9], Out[6]~Out[9])"
   ]
  },
  {
   "cell_type": "code",
   "execution_count": null,
   "metadata": {},
   "outputs": [],
   "source": [
    "## 假如我們不想把資料載到自己的電腦裡?\n",
    "# 把連結填入\n",
    "target_url = 'https://raw.githubusercontent.com/vashineyu/slides_and_others/master/tutorial/examples/imagenet_urls_examples.txt'"
   ]
  },
  {
   "cell_type": "code",
   "execution_count": null,
   "metadata": {},
   "outputs": [],
   "source": [
    "import requests\n",
    "response = requests.get(target_url)\n",
    "data = response.text\n",
    "\n",
    "# 用 request 傳送回來的資料不會認得斷行符號\n",
    "print(len(data))\n",
    "data[0:100]"
   ]
  },
  {
   "cell_type": "code",
   "execution_count": null,
   "metadata": {},
   "outputs": [],
   "source": [
    "# 找到換行符號，用該符號做字串分割後，把它拿掉\n",
    "split_tag = '\\n'\n",
    "\n",
    "data = data.split(split_tag)\n",
    "print(len(data))\n",
    "data[0]"
   ]
  },
  {
   "cell_type": "code",
   "execution_count": null,
   "metadata": {},
   "outputs": [],
   "source": [
    "## 將 txt 轉成 pandas dataframe"
   ]
  },
  {
   "cell_type": "code",
   "execution_count": null,
   "metadata": {},
   "outputs": [],
   "source": [
    "import pandas as pd\n",
    "\n",
    "df = pd.DataFrame([line.split('\\t') for line in data])\n",
    "df.head()"
   ]
  },
  {
   "cell_type": "code",
   "execution_count": null,
   "metadata": {},
   "outputs": [],
   "source": [
    "## 讀取圖片，請讀取上面 data frame 中的前 5 張圖片"
   ]
  },
  {
   "cell_type": "code",
   "execution_count": null,
   "metadata": {},
   "outputs": [],
   "source": [
    "from PIL import Image\n",
    "from io import BytesIO\n",
    "import numpy as np\n",
    "import matplotlib.pyplot as plt\n",
    "\n",
    "# 請用 df.loc[...] 得到第一筆資料的連結\n",
    "first_link = df.loc[0,1]\n",
    "print(first_link)\n",
    "\n",
    "response = requests.get(first_link)\n",
    "img = Image.open(BytesIO(response.content))\n",
    "\n",
    "# Convert img to numpy array\n",
    "img = np.array(img)\n",
    "\n",
    "plt.imshow(img)\n",
    "plt.show()"
   ]
  },
  {
   "cell_type": "code",
   "execution_count": null,
   "metadata": {},
   "outputs": [],
   "source": [
    "def img2arr_fromURLs(url_list, resize = False):\n",
    "    \"\"\"\n",
    "    請完成這個 Function\n",
    "    Args\n",
    "        - url_list: list of URLs\n",
    "        - resize: bool\n",
    "    Return\n",
    "        - list of array\n",
    "    \"\"\"\n",
    "    #img_list = [np.array(Image.open(BytesIO(requests.get(url).content))) for url in url_list]\n",
    "    img_list = []\n",
    "    for url in url_list:\n",
    "        try:\n",
    "            img_list.append(np.array(Image.open(BytesIO(requests.get(url).content))))\n",
    "        except:\n",
    "            print('error:'+url)\n",
    "    return img_list"
   ]
  },
  {
   "cell_type": "code",
   "execution_count": null,
   "metadata": {},
   "outputs": [],
   "source": [
    "result = img2arr_fromURLs(df[0:5][1].values)\n",
    "print(\"Total images that we got: %i \" % len(result)) # 如果不等於 5, 代表有些連結失效囉\n",
    "\n",
    "for im_get in result:\n",
    "    plt.imshow(im_get)\n",
    "    plt.show()"
   ]
  }
 ],
 "metadata": {
  "kernelspec": {
   "display_name": "Python 3",
   "language": "python",
   "name": "python3"
  },
  "language_info": {
   "codemirror_mode": {
    "name": "ipython",
    "version": 3
   },
   "file_extension": ".py",
   "mimetype": "text/x-python",
   "name": "python",
   "nbconvert_exporter": "python",
   "pygments_lexer": "ipython3",
   "version": "3.7.3"
  }
 },
 "nbformat": 4,
 "nbformat_minor": 2
}
