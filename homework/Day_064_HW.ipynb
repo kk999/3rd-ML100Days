{
 "cells": [
  {
   "cell_type": "markdown",
   "metadata": {},
   "source": [
    "# 作業\n",
    "* 選擇迴歸資料集(右) - 交錯六群，在其他參數保持預設值的情況下，只允許調整隱藏層層數與神經元數量，且遵守下列限制   \n",
    "> * 隱藏層神經元總數最多 8 個 (即 : 可以單層 8 個，或兩層 5 個與 3 個)   \n",
    "> * 遞迴次數只允許跑到500次  \n",
    "* 在上述限制下，挑戰看看測試誤差 (Test Loss) 最低能到多少? 請回答你的神經元參數與 Test Loss 數"
   ]
  },
  {
   "cell_type": "code",
   "execution_count": null,
   "metadata": {},
   "outputs": [],
   "source": [
    "感覺上，\n",
    "在已經有六群的情況下，隱藏層第一層至少要有五個神經元比較好，但能有六個會更好。\n",
    "所以目標鎖定在五加三或六加二的組合，最後應該都會收斂到不錯的結果。\n",
    "\n",
    "但遞迴次數在有限制的情況下，為了加快取得不錯的結果，就需要足夠的特徵輸入，\n",
    "本以為輸入的特徵越多越好，但發現時太多的特徵，可能需要更多的遞迴次數來挑選出更好的結果，\n",
    "這樣子要在500次遞迴中取得好的結果是更困難的。\n",
    "後來猜測因為己知六群的情況下，那麼特徵選取五或六個，應該會有比較不錯的表現吧，\n",
    "實驗結果是真的都有差不多好的表現，這裡取最好的一個，即五個輸入特徵。"
   ]
  },
  {
   "cell_type": "markdown",
   "metadata": {},
   "source": [
    "![alt text](https://github.com/kk999/3rd-ML100Days/blob/master/homework/Day_064_HW.png?raw=true)"
   ]
  },
  {
   "cell_type": "markdown",
   "metadata": {
    "collapsed": true
   },
   "source": []
  }
 ],
 "metadata": {
  "kernelspec": {
   "display_name": "Python 3",
   "language": "python",
   "name": "python3"
  },
  "language_info": {
   "codemirror_mode": {
    "name": "ipython",
    "version": 3
   },
   "file_extension": ".py",
   "mimetype": "text/x-python",
   "name": "python",
   "nbconvert_exporter": "python",
   "pygments_lexer": "ipython3",
   "version": "3.7.3"
  }
 },
 "nbformat": 4,
 "nbformat_minor": 2
}
